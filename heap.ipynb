{
  "nbformat": 4,
  "nbformat_minor": 0,
  "metadata": {
    "colab": {
      "provenance": [],
      "authorship_tag": "ABX9TyNWmyPXHV6q6fmX+8QqvOY+",
      "include_colab_link": true
    },
    "kernelspec": {
      "name": "python3",
      "display_name": "Python 3"
    },
    "language_info": {
      "name": "python"
    }
  },
  "cells": [
    {
      "cell_type": "markdown",
      "metadata": {
        "id": "view-in-github",
        "colab_type": "text"
      },
      "source": [
        "<a href=\"https://colab.research.google.com/github/mnocerino23/Algorithms/blob/main/heap.ipynb\" target=\"_parent\"><img src=\"https://colab.research.google.com/assets/colab-badge.svg\" alt=\"Open In Colab\"/></a>"
      ]
    },
    {
      "cell_type": "code",
      "execution_count": 46,
      "metadata": {
        "id": "YcixLBcYcI5W"
      },
      "outputs": [],
      "source": [
        "#function that creates a max heap given an array\n",
        "#n is the size of the heap\n",
        "\n",
        "def makeHeap(array, n):\n",
        "  #index of last non-leaf node\n",
        "  startIndex = n\n",
        "  #start at startIndex, end at -1, increment by -1. This stops at i = 0\n",
        "  #you basically start at the last child and repeatedly heapify to build the heap\n",
        "\n",
        "  for i in range(startIndex, -1, -1):\n",
        "    heapify(array, n, i)"
      ]
    },
    {
      "cell_type": "code",
      "source": [
        "#heapify from function from geeks for geeks\n",
        "#To heapify a subtree rooted with node i which is an index in array. N is size of heap\n",
        "def heapify(array, n, i):\n",
        "  \n",
        "    largest = i  # Initialize largest as root\n",
        "    l = 2 * i + 1  # left = 2*i + 1\n",
        "    r = 2 * i + 2  # right = 2*i + 2\n",
        "  \n",
        "    # If left child is larger than root\n",
        "    if l < n and array[l] > array[largest]:\n",
        "        largest = l\n",
        "  \n",
        "    # If right child is larger than largest so far\n",
        "    if r < n and array[r] > array[largest]:\n",
        "        largest = r\n",
        "  \n",
        "    # If largest is not root\n",
        "    if largest != i:\n",
        "        #swap child\n",
        "        array[i], array[largest] = array[largest], array[i]\n",
        "        #  heapify the affected sub-tree\n",
        "        heapify(array, n, largest)\n"
      ],
      "metadata": {
        "id": "cXUNRGwscNY1"
      },
      "execution_count": 48,
      "outputs": []
    },
    {
      "cell_type": "code",
      "source": [
        "array = [1, 3, 5, 4, 6, 13,10, 9, 8, 15, 17]"
      ],
      "metadata": {
        "id": "cZ06_PqJd2gU"
      },
      "execution_count": 49,
      "outputs": []
    },
    {
      "cell_type": "code",
      "source": [
        "makeHeap(array, 11)\n",
        "array"
      ],
      "metadata": {
        "colab": {
          "base_uri": "https://localhost:8080/"
        },
        "id": "aAoRYSaHd5Et",
        "outputId": "ef7191a6-e84d-4abe-c5d8-b5a79ecb519d"
      },
      "execution_count": 50,
      "outputs": [
        {
          "output_type": "execute_result",
          "data": {
            "text/plain": [
              "[17, 15, 13, 9, 6, 5, 10, 4, 8, 3, 1]"
            ]
          },
          "metadata": {},
          "execution_count": 50
        }
      ]
    },
    {
      "cell_type": "code",
      "source": [
        "#python implementation of swap\n",
        "def swap(array, a, b):\n",
        "  temp = array[a]\n",
        "  array[a] = array[b]\n",
        "  array[b] = temp"
      ],
      "metadata": {
        "id": "KHcyOgwuhAox"
      },
      "execution_count": 52,
      "outputs": []
    },
    {
      "cell_type": "code",
      "source": [
        "#sorting algorithm that runs in O(nlogn)\n",
        "\n",
        "def heapSort(array, n):\n",
        "  makeHeap(array, n)\n",
        "  for i in range(0, n-1):\n",
        "    #swap max value to the front\n",
        "    swap(array[i], array[0])\n",
        "    #get unsorted subarray\n",
        "    array = array[i:]\n",
        "    heapify(array)"
      ],
      "metadata": {
        "colab": {
          "base_uri": "https://localhost:8080/",
          "height": 131
        },
        "id": "4AR67aficVbI",
        "outputId": "4d9e74d5-0e26-447e-d4a8-5de1c210601d"
      },
      "execution_count": 24,
      "outputs": [
        {
          "output_type": "error",
          "ename": "SyntaxError",
          "evalue": "ignored",
          "traceback": [
            "\u001b[0;36m  File \u001b[0;32m\"<ipython-input-24-ebceaa03742f>\"\u001b[0;36m, line \u001b[0;32m5\u001b[0m\n\u001b[0;31m    for i\u001b[0m\n\u001b[0m          ^\u001b[0m\n\u001b[0;31mSyntaxError\u001b[0m\u001b[0;31m:\u001b[0m invalid syntax\n"
          ]
        }
      ]
    }
  ]
}