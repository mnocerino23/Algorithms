{
  "nbformat": 4,
  "nbformat_minor": 0,
  "metadata": {
    "colab": {
      "provenance": [],
      "authorship_tag": "ABX9TyNuhX3VtprMkBRMyh8E4LsP",
      "include_colab_link": true
    },
    "kernelspec": {
      "name": "python3",
      "display_name": "Python 3"
    },
    "language_info": {
      "name": "python"
    }
  },
  "cells": [
    {
      "cell_type": "markdown",
      "metadata": {
        "id": "view-in-github",
        "colab_type": "text"
      },
      "source": [
        "<a href=\"https://colab.research.google.com/github/mnocerino23/Algorithms/blob/main/sortingAlgorithms.ipynb\" target=\"_parent\"><img src=\"https://colab.research.google.com/assets/colab-badge.svg\" alt=\"Open In Colab\"/></a>"
      ]
    },
    {
      "cell_type": "markdown",
      "source": [
        "# Mergesort Python Implementation:\n",
        "// Mergesort is nlogn worst case\n",
        "\n",
        "\n"
      ],
      "metadata": {
        "id": "Pd3lUXRGcid-"
      }
    },
    {
      "cell_type": "code",
      "source": [
        "#merge will merge two already sorted arrays\n",
        "def merge(left, right):\n",
        "  final = []\n",
        "  i = 0\n",
        "  j = 0\n",
        "  #have two loop variables i and j that run through each array\n",
        "  while ((i < len(left)) and (j < len(right))):\n",
        "    #if the value in beginnig of left array it becomes first element in final sorted \n",
        "    #and we then compare left[1] to right[0] at next iteration\n",
        "    if left[i] <= right[j]:\n",
        "      final.append(left[i])\n",
        "      i+=1\n",
        "    else:\n",
        "      final.append(right[j])\n",
        "      j+=1\n",
        "  #add remaining entries when exit loop\n",
        "  final += left[i:]\n",
        "  final += right[j:]\n",
        "  #return the joined sorted list\n",
        "  return final"
      ],
      "metadata": {
        "id": "lp2zDYepdQ-K"
      },
      "execution_count": 1,
      "outputs": []
    },
    {
      "cell_type": "code",
      "source": [
        "#mergeSort is a recursive divide and conquer algorithm\n",
        "def mergeSort(array):\n",
        "  #basecase -> if array of length 1 return the array\n",
        "  if len(array) == 1:\n",
        "    return array\n",
        "\n",
        "  #middle of the array will be length of array divided by two casted to int (if remainder)\n",
        "  middle = int(len(array)/2)\n",
        "\n",
        "  #left half of the array is indices up to middle\n",
        "  #right half of the array is middle up to length-1 of array\n",
        "  left_half = array[0:middle]\n",
        "  right_half = array[middle:len(array)]\n",
        "\n",
        "  #run mergesort on both halves\n",
        "  left = mergeSort(left_half)\n",
        "  right = mergeSort(right_half)\n",
        "  \n",
        "  #utilize merge to join the sorted halves\n",
        "  return merge(left,right)"
      ],
      "metadata": {
        "id": "ko7cG-3QdF2w"
      },
      "execution_count": 2,
      "outputs": []
    },
    {
      "cell_type": "code",
      "source": [
        "a = [1, 4, 7, 8, 9, 0, 25, 3, 4, 7, 10, 2, 6, 5, 8]\n",
        "mergeSort(a)"
      ],
      "metadata": {
        "colab": {
          "base_uri": "https://localhost:8080/"
        },
        "id": "_Ei0GKEKdGCj",
        "outputId": "d7a0e484-274a-49f6-f398-083a4bed1bf5"
      },
      "execution_count": 3,
      "outputs": [
        {
          "output_type": "execute_result",
          "data": {
            "text/plain": [
              "[0, 1, 2, 3, 4, 4, 5, 6, 7, 7, 8, 8, 9, 10, 25]"
            ]
          },
          "metadata": {},
          "execution_count": 3
        }
      ]
    },
    {
      "cell_type": "markdown",
      "source": [
        "# Insertion Sort Python Implementation:\n",
        "//Insertion Sort is n^2"
      ],
      "metadata": {
        "id": "Go_BHQhPcdWt"
      }
    },
    {
      "cell_type": "markdown",
      "source": [
        "Implementation 1: Standard"
      ],
      "metadata": {
        "id": "MO22lYrFj5pd"
      }
    },
    {
      "cell_type": "code",
      "source": [
        "def insertionSort(array):\n",
        "  #start at the beginning of the array\n",
        "  #i is the second entry and j starts with the first entry\n",
        "  for i in range(1, len(array)):\n",
        "    val = array[i]\n",
        "    j = i-1\n",
        "    #if value at j is greater than value at i (entry next to j is out of order), swap\n",
        "    #go back until you hit the first value that's in correct position\n",
        "    while j>= 0 and array[j] > val:\n",
        "      array[j+1] = array[j]\n",
        "      j -= 1\n",
        "    array[j+1] = val\n",
        "  return array"
      ],
      "metadata": {
        "id": "UbtmcvAUkueg"
      },
      "execution_count": 4,
      "outputs": []
    },
    {
      "cell_type": "code",
      "source": [
        "input = [5, 2, 3, 7, 9, 10, 8, 11, 9, 14, 31, 2]\n",
        "insertionSort(input)"
      ],
      "metadata": {
        "colab": {
          "base_uri": "https://localhost:8080/"
        },
        "id": "fw6t4tPfoepf",
        "outputId": "3dba67e3-181f-4d6b-b4c9-a8b739e74b65"
      },
      "execution_count": 5,
      "outputs": [
        {
          "output_type": "execute_result",
          "data": {
            "text/plain": [
              "[2, 2, 3, 5, 7, 8, 9, 9, 10, 11, 14, 31]"
            ]
          },
          "metadata": {},
          "execution_count": 5
        }
      ]
    },
    {
      "cell_type": "markdown",
      "source": [
        "Implementation 2: Recursion"
      ],
      "metadata": {
        "id": "iSrjab7Xj7uy"
      }
    },
    {
      "cell_type": "markdown",
      "source": [
        "# Selection Sort Python Implementation\n",
        "//Worst case is n^2"
      ],
      "metadata": {
        "id": "DeTzPpibsgkt"
      }
    },
    {
      "cell_type": "code",
      "source": [
        "def selectionSort(array):\n",
        "  #loop through elements of the array, starting at array[0]\n",
        "  for i in range(0, len(array)):\n",
        "    #find the minimum value in the subarray to the right\n",
        "    for j in range(i+1,len(array)):\n",
        "      min = array[j]\n",
        "      if array[j] < min:\n",
        "        min = array[j]\n",
        "      #compare element at i to the min of the subarray to the right and swap if \n",
        "      if array[j] < array[i]:\n",
        "        temp = array[i]\n",
        "        array[i] = array[j]\n",
        "        array[j] = temp\n",
        "  return array"
      ],
      "metadata": {
        "id": "Y82wzEBJspOu"
      },
      "execution_count": 6,
      "outputs": []
    },
    {
      "cell_type": "code",
      "source": [
        "selectionSort(input)"
      ],
      "metadata": {
        "colab": {
          "base_uri": "https://localhost:8080/"
        },
        "id": "zYziXJbLuN1e",
        "outputId": "f5718783-512d-45d3-c855-cbe2dc33458f"
      },
      "execution_count": 7,
      "outputs": [
        {
          "output_type": "execute_result",
          "data": {
            "text/plain": [
              "[2, 2, 3, 5, 7, 8, 9, 9, 10, 11, 14, 31]"
            ]
          },
          "metadata": {},
          "execution_count": 7
        }
      ]
    },
    {
      "cell_type": "markdown",
      "source": [
        "# Quicksort Python Implementation - Quicksort uses a separate partition function\n",
        "\n",
        "//Quicksort is worst case n^2 but average case nlogn"
      ],
      "metadata": {
        "id": "FH7EE4RTcokz"
      }
    },
    {
      "cell_type": "code",
      "source": [
        "#swap function to swap two array elements in Python\n",
        "def swap(array, a, b):\n",
        "  temp = array[a]\n",
        "  array[a] = array[b]\n",
        "  array[b] = temp"
      ],
      "metadata": {
        "id": "cswR9JjKIY18"
      },
      "execution_count": 8,
      "outputs": []
    },
    {
      "cell_type": "markdown",
      "source": [
        "Lumato Partition chooses the first element in the array to be the pivot"
      ],
      "metadata": {
        "id": "BaN3uy2YD5HS"
      }
    },
    {
      "cell_type": "code",
      "source": [
        "#left = first index\n",
        "#right = last index\n",
        "\n",
        "def lumatoPartition(array, left, right):\n",
        "  pivot = array[left]\n",
        "  s = left\n",
        "  for i in range(left+1, right+1):\n",
        "    if array[i] < pivot:\n",
        "      s+=1\n",
        "      swap(array, s, i)\n",
        "  swap(array, left, s)\n",
        "  #print(array)\n",
        "  return s"
      ],
      "metadata": {
        "id": "ZQaq-Dmvr3U1"
      },
      "execution_count": 9,
      "outputs": []
    },
    {
      "cell_type": "code",
      "source": [
        "#pivot selected wi\n",
        "b = [9, 12, 6, 11, 13, 8, 2]\n",
        "lumatoPartition(b, 0, 6)"
      ],
      "metadata": {
        "id": "uJIP-Lk3IstO",
        "outputId": "67d27d88-f008-4862-acf9-bf43f2b2c431",
        "colab": {
          "base_uri": "https://localhost:8080/"
        }
      },
      "execution_count": 10,
      "outputs": [
        {
          "output_type": "execute_result",
          "data": {
            "text/plain": [
              "3"
            ]
          },
          "metadata": {},
          "execution_count": 10
        }
      ]
    },
    {
      "cell_type": "markdown",
      "source": [
        "Quicksort function:"
      ],
      "metadata": {
        "id": "xOomnWC-EDzS"
      }
    },
    {
      "cell_type": "code",
      "source": [
        "def quickSort(array, left, right):\n",
        "  if left < right:\n",
        "    s = lumatoPartition(array, left, right)\n",
        "    quickSort(array, left, s-1)\n",
        "    quickSort(array, s+1, right)\n",
        "  return array"
      ],
      "metadata": {
        "id": "1IP-sCZ-r1j9"
      },
      "execution_count": 11,
      "outputs": []
    },
    {
      "cell_type": "code",
      "source": [
        "#testing the quicksort function\n",
        "quickSort(input,0, 11)"
      ],
      "metadata": {
        "id": "fpk91GdDLhqv",
        "outputId": "47fc635e-de27-4d5c-cbe4-b6f505acbec1",
        "colab": {
          "base_uri": "https://localhost:8080/"
        }
      },
      "execution_count": 12,
      "outputs": [
        {
          "output_type": "execute_result",
          "data": {
            "text/plain": [
              "[2, 2, 3, 5, 7, 8, 9, 9, 10, 11, 14, 31]"
            ]
          },
          "metadata": {},
          "execution_count": 12
        }
      ]
    },
    {
      "cell_type": "markdown",
      "source": [
        "# Quickselect\n",
        "//not a sorting algorithm but based on concepts from quicksort\n",
        "//input: array and an integer k\n",
        "//output: the value of the kth smallest element in array"
      ],
      "metadata": {
        "id": "E7gfrvBGEH_y"
      }
    },
    {
      "cell_type": "code",
      "source": [
        "def quickSelect(array, left, right, k):\n",
        "  s = lumatoPartition(array, left, right)\n",
        "  #if s = k-1, it means kth smallest is already in position s\n",
        "  if s == k-1:\n",
        "    return array[s]\n",
        "  #look at left side of pivot\n",
        "  elif s > (left + k -1):\n",
        "    quickSelect(array, left, s-1, k)\n",
        "  #look at right side of pivot\n",
        "  else:\n",
        "    quickSelect(array, s+1, right, k-s-1)"
      ],
      "metadata": {
        "id": "TlBKhHMCFc2k"
      },
      "execution_count": 13,
      "outputs": []
    },
    {
      "cell_type": "code",
      "source": [
        "quickSelect(input, 0, 11, 4)"
      ],
      "metadata": {
        "id": "c2heUoX6Jruk",
        "outputId": "418ea3d9-0570-4c3f-da9f-1c61dc736ab1",
        "colab": {
          "base_uri": "https://localhost:8080/",
          "height": 1000
        }
      },
      "execution_count": 16,
      "outputs": [
        {
          "output_type": "stream",
          "name": "stderr",
          "text": [
            "ERROR:root:Internal Python error in the inspect module.\n",
            "Below is the traceback from this internal error.\n",
            "\n"
          ]
        },
        {
          "output_type": "stream",
          "name": "stdout",
          "text": [
            "Traceback (most recent call last):\n",
            "  File \"/usr/local/lib/python3.8/dist-packages/IPython/core/interactiveshell.py\", line 3326, in run_code\n",
            "    exec(code_obj, self.user_global_ns, self.user_ns)\n",
            "  File \"<ipython-input-16-070236a14796>\", line 1, in <module>\n",
            "    quickSelect(input, 0, 11, 4)\n",
            "  File \"<ipython-input-13-67d871b753b1>\", line 11, in quickSelect\n",
            "    quickSelect(array, s+1, right, k-s-1)\n",
            "  File \"<ipython-input-13-67d871b753b1>\", line 11, in quickSelect\n",
            "    quickSelect(array, s+1, right, k-s-1)\n",
            "  File \"<ipython-input-13-67d871b753b1>\", line 11, in quickSelect\n",
            "    quickSelect(array, s+1, right, k-s-1)\n",
            "  File \"<ipython-input-13-67d871b753b1>\", line 8, in quickSelect\n",
            "    quickSelect(array, left, s-1, k)\n",
            "  File \"<ipython-input-13-67d871b753b1>\", line 8, in quickSelect\n",
            "    quickSelect(array, left, s-1, k)\n",
            "  File \"<ipython-input-13-67d871b753b1>\", line 8, in quickSelect\n",
            "    quickSelect(array, left, s-1, k)\n",
            "  [Previous line repeated 954 more times]\n",
            "  File \"<ipython-input-13-67d871b753b1>\", line 2, in quickSelect\n",
            "    s = lumatoPartition(array, left, right)\n",
            "  File \"<ipython-input-9-a8caf74e54f4>\", line 7, in lumatoPartition\n",
            "    for i in range(left+1, right+1):\n",
            "RecursionError: maximum recursion depth exceeded in comparison\n",
            "\n",
            "During handling of the above exception, another exception occurred:\n",
            "\n",
            "Traceback (most recent call last):\n",
            "  File \"/usr/local/lib/python3.8/dist-packages/IPython/core/interactiveshell.py\", line 2040, in showtraceback\n",
            "    stb = value._render_traceback_()\n",
            "AttributeError: 'RecursionError' object has no attribute '_render_traceback_'\n",
            "\n",
            "During handling of the above exception, another exception occurred:\n",
            "\n",
            "Traceback (most recent call last):\n",
            "  File \"/usr/local/lib/python3.8/dist-packages/IPython/core/ultratb.py\", line 1101, in get_records\n",
            "    return _fixed_getinnerframes(etb, number_of_lines_of_context, tb_offset)\n",
            "  File \"/usr/local/lib/python3.8/dist-packages/IPython/core/ultratb.py\", line 319, in wrapped\n",
            "    return f(*args, **kwargs)\n",
            "  File \"/usr/local/lib/python3.8/dist-packages/IPython/core/ultratb.py\", line 353, in _fixed_getinnerframes\n",
            "    records = fix_frame_records_filenames(inspect.getinnerframes(etb, context))\n",
            "  File \"/usr/lib/python3.8/inspect.py\", line 1515, in getinnerframes\n",
            "    frameinfo = (tb.tb_frame,) + getframeinfo(tb, context)\n",
            "  File \"/usr/lib/python3.8/inspect.py\", line 1477, in getframeinfo\n",
            "    lines, lnum = findsource(frame)\n",
            "  File \"/usr/local/lib/python3.8/dist-packages/IPython/core/ultratb.py\", line 173, in findsource\n",
            "    file = getsourcefile(object) or getfile(object)\n",
            "  File \"/usr/lib/python3.8/inspect.py\", line 708, in getsourcefile\n",
            "    if getattr(getmodule(object, filename), '__loader__', None) is not None:\n",
            "  File \"/usr/lib/python3.8/inspect.py\", line 745, in getmodule\n",
            "    if ismodule(module) and hasattr(module, '__file__'):\n",
            "KeyboardInterrupt\n"
          ]
        },
        {
          "output_type": "error",
          "ename": "RecursionError",
          "evalue": "ignored",
          "traceback": [
            "\u001b[0;31m---------------------------------------------------------------------------\u001b[0m"
          ]
        }
      ]
    },
    {
      "cell_type": "markdown",
      "source": [
        "# Modifying Quicksort"
      ],
      "metadata": {
        "id": "UrYovGoCAySW"
      }
    },
    {
      "cell_type": "code",
      "source": [
        "def newLomuto(array, left, right):\n",
        "  pivot = array[left]\n",
        "  s = left\n",
        "  #p will represent the size of the region equal to the pivot\n",
        "  after_pivot = 0\n",
        "  #iterate through the rest of the list\n",
        "  for i in range(left+1, right+1):\n",
        "    if array[i] < pivot:\n",
        "      s+=1\n",
        "      swap(array, s, i)\n",
        "    elif array[i] == pivot:\n",
        "      after_pivot += 1\n",
        "  swap(array, left, s)\n",
        "\n",
        "  count = 1\n",
        "  for j in range(s+1, right+1):\n",
        "    if array[j] == pivot:\n",
        "      swap(array, j, s+count)\n",
        "      count+=1\n",
        "  return s, s+after_pivot, array"
      ],
      "metadata": {
        "id": "TCgrVSTOA3JT"
      },
      "execution_count": 17,
      "outputs": []
    },
    {
      "cell_type": "code",
      "source": [
        "input2 = [5, 2, 5, 6, 5, 3, 9, 6]\n",
        "newLomuto(input2, 0, 7)"
      ],
      "metadata": {
        "id": "8okyN64tEA5h",
        "outputId": "b112175b-9559-4486-b1e4-3418d812f91f",
        "colab": {
          "base_uri": "https://localhost:8080/"
        }
      },
      "execution_count": 18,
      "outputs": [
        {
          "output_type": "execute_result",
          "data": {
            "text/plain": [
              "(2, 4, [3, 2, 5, 5, 5, 6, 9, 6])"
            ]
          },
          "metadata": {},
          "execution_count": 18
        }
      ]
    },
    {
      "cell_type": "code",
      "source": [
        "def newQuicksort(array, left, right):\n",
        "  if left < right:\n",
        "    pair = newLomuto(array, left, right)\n",
        "    newQuicksort(array, left, pair[0]-1)\n",
        "    newQuicksort(array, pair[1] + 1, right)\n",
        "  return array"
      ],
      "metadata": {
        "id": "cAUSUYAdDRtG"
      },
      "execution_count": 19,
      "outputs": []
    },
    {
      "cell_type": "code",
      "source": [
        "newQuicksort(input2,0, 7)"
      ],
      "metadata": {
        "id": "DkfdWnuRD2KW",
        "outputId": "ae9a56be-c262-41b8-fa20-5a6b5c0bc51d",
        "colab": {
          "base_uri": "https://localhost:8080/"
        }
      },
      "execution_count": 20,
      "outputs": [
        {
          "output_type": "execute_result",
          "data": {
            "text/plain": [
              "[2, 3, 5, 5, 5, 6, 6, 9]"
            ]
          },
          "metadata": {},
          "execution_count": 20
        }
      ]
    },
    {
      "cell_type": "markdown",
      "source": [
        "# Rearrange word:"
      ],
      "metadata": {
        "id": "Q5SKKJV4WgyZ"
      }
    },
    {
      "cell_type": "code",
      "source": [
        "#function will take an input \n",
        "def rearrangeWord(word):\n",
        "  word = \"n\" + word\n",
        "  word = list(word)\n",
        "  word = hoare(word, 0, len(word)-1)\n",
        "  return word"
      ],
      "metadata": {
        "id": "cLN_DqWnWjbA"
      },
      "execution_count": 55,
      "outputs": []
    },
    {
      "cell_type": "code",
      "source": [
        "def hoare(word, left, right):\n",
        "  pivot = word[0]\n",
        "  i = left\n",
        "  j = right\n",
        "  while i < j:\n",
        "    while word[i] < pivot:\n",
        "      i+=1\n",
        "    while word[j] >= pivot:\n",
        "      j-=1\n",
        "    print(i,j)\n",
        "    swap(word, i, j)\n",
        "  swap(word, i, j)\n",
        "  s = \"\"\n",
        "  return s.join(word)"
      ],
      "metadata": {
        "id": "P3ideX5qWumA"
      },
      "execution_count": 96,
      "outputs": []
    },
    {
      "cell_type": "code",
      "source": [
        "word1 = \"homeworkfour\"\n",
        "word2 = \"gymrat\""
      ],
      "metadata": {
        "id": "XJtyC5VGXiax"
      },
      "execution_count": 83,
      "outputs": []
    },
    {
      "cell_type": "code",
      "source": [
        "print(rearrangeWord(word1))\n",
        "print(rearrangeWord(word2))"
      ],
      "metadata": {
        "id": "3e4lLKRzXnMA",
        "outputId": "e1dd28f0-a5cd-40b6-ba8b-efff3a23fc50",
        "colab": {
          "base_uri": "https://localhost:8080/"
        }
      },
      "execution_count": 84,
      "outputs": [
        {
          "output_type": "stream",
          "name": "stdout",
          "text": [
            "0 9\n",
            "2 8\n",
            "5 4\n",
            "fhkmeworonour\n",
            "0 5\n",
            "2 3\n",
            "3 2\n",
            "agmyrnt\n"
          ]
        }
      ]
    },
    {
      "cell_type": "code",
      "source": [
        "word3 = \"nanoseconds\"\n",
        "word4 = \"fuckmylife\"\n",
        "word5 = \"michaelnocerino\""
      ],
      "metadata": {
        "id": "ena9rcxBcWkV"
      },
      "execution_count": 94,
      "outputs": []
    },
    {
      "cell_type": "code",
      "source": [
        "rearrangeWord(word3)\n",
        "print(rearrangeWord(word3))"
      ],
      "metadata": {
        "id": "Bm5NydAMdO1F",
        "outputId": "ff45818f-079c-4ced-93b7-26bf7f905b73",
        "colab": {
          "base_uri": "https://localhost:8080/"
        }
      },
      "execution_count": 91,
      "outputs": [
        {
          "output_type": "stream",
          "name": "stdout",
          "text": [
            "0 10\n",
            "1 7\n",
            "3 6\n",
            "4 3\n",
            "0 10\n",
            "1 7\n",
            "3 6\n",
            "4 3\n",
            "dcaeosnnonns\n"
          ]
        }
      ]
    },
    {
      "cell_type": "code",
      "source": [
        "rearrangeWord(word4)\n",
        "print(rearrangeWord(word4))"
      ],
      "metadata": {
        "id": "2aD7L2j4dgg0",
        "outputId": "6821cb70-2d39-4f57-8bbc-604623949f18",
        "colab": {
          "base_uri": "https://localhost:8080/"
        }
      },
      "execution_count": 92,
      "outputs": [
        {
          "output_type": "stream",
          "name": "stdout",
          "text": [
            "0 10\n",
            "2 9\n",
            "6 8\n",
            "8 7\n",
            "0 10\n",
            "2 9\n",
            "6 8\n",
            "8 7\n",
            "effckmilyun\n"
          ]
        }
      ]
    },
    {
      "cell_type": "code",
      "source": [
        "rearrangeWord(word5)\n",
        "print(rearrangeWord(word5))"
      ],
      "metadata": {
        "id": "463_00MVdngz",
        "outputId": "1bbe89af-b3ce-4f90-ca60-b9194bfbea76",
        "colab": {
          "base_uri": "https://localhost:8080/"
        }
      },
      "execution_count": 95,
      "outputs": [
        {
          "output_type": "stream",
          "name": "stdout",
          "text": [
            "0 13\n",
            "8 11\n",
            "9 10\n",
            "10 9\n",
            "0 13\n",
            "8 11\n",
            "9 10\n",
            "10 9\n",
            "imichaeleconrnno\n"
          ]
        }
      ]
    }
  ]
}