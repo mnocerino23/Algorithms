{
  "nbformat": 4,
  "nbformat_minor": 0,
  "metadata": {
    "colab": {
      "provenance": [],
      "authorship_tag": "ABX9TyMmRuR0Bb6615LmG9NvV0qi",
      "include_colab_link": true
    },
    "kernelspec": {
      "name": "python3",
      "display_name": "Python 3"
    },
    "language_info": {
      "name": "python"
    }
  },
  "cells": [
    {
      "cell_type": "markdown",
      "metadata": {
        "id": "view-in-github",
        "colab_type": "text"
      },
      "source": [
        "<a href=\"https://colab.research.google.com/github/mnocerino23/Algorithms/blob/main/sortingAlgorithms.ipynb\" target=\"_parent\"><img src=\"https://colab.research.google.com/assets/colab-badge.svg\" alt=\"Open In Colab\"/></a>"
      ]
    },
    {
      "cell_type": "markdown",
      "source": [
        "# Mergesort Python Implementation:\n",
        "// Mergesort is nlogn worst case\n",
        "\n",
        "\n"
      ],
      "metadata": {
        "id": "Pd3lUXRGcid-"
      }
    },
    {
      "cell_type": "code",
      "source": [
        "#merge will merge two already sorted arrays\n",
        "def merge(left, right):\n",
        "  final = []\n",
        "  i = 0\n",
        "  j = 0\n",
        "  #have two loop variables i and j that run through each array\n",
        "  while ((i < len(left)) and (j < len(right))):\n",
        "    #if the value in beginnig of left array it becomes first element in final sorted \n",
        "    #and we then compare left[1] to right[0] at next iteration\n",
        "    if left[i] <= right[j]:\n",
        "      final.append(left[i])\n",
        "      i+=1\n",
        "    else:\n",
        "      final.append(right[j])\n",
        "      j+=1\n",
        "  #add remaining entries when exit loop\n",
        "  final += left[i:]\n",
        "  final += right[j:]\n",
        "  #return the joined sorted list\n",
        "  return final"
      ],
      "metadata": {
        "id": "lp2zDYepdQ-K"
      },
      "execution_count": 60,
      "outputs": []
    },
    {
      "cell_type": "code",
      "source": [
        "#mergeSort is a recursive divide and conquer algorithm\n",
        "def mergeSort(array):\n",
        "  #basecase -> if array of length 1 return the array\n",
        "  if len(array) == 1:\n",
        "    return array\n",
        "\n",
        "  #middle of the array will be length of array divided by two casted to int (if remainder)\n",
        "  middle = int(len(array)/2)\n",
        "\n",
        "  #left half of the array is indices up to middle\n",
        "  #right half of the array is middle up to length-1 of array\n",
        "  left_half = array[0:middle]\n",
        "  right_half = array[middle:len(array)]\n",
        "\n",
        "  #run mergesort on both halves\n",
        "  left = mergeSort(left_half)\n",
        "  right = mergeSort(right_half)\n",
        "  \n",
        "  #utilize merge to join the sorted halves\n",
        "  return merge(left,right)"
      ],
      "metadata": {
        "id": "ko7cG-3QdF2w"
      },
      "execution_count": 61,
      "outputs": []
    },
    {
      "cell_type": "code",
      "source": [
        "a = [1, 4, 7, 8, 9, 0, 25, 3, 4, 7, 10, 2, 6, 5, 8]\n",
        "mergeSort(a)"
      ],
      "metadata": {
        "colab": {
          "base_uri": "https://localhost:8080/"
        },
        "id": "_Ei0GKEKdGCj",
        "outputId": "90813b96-56a2-4a10-af2c-86f549545981"
      },
      "execution_count": 62,
      "outputs": [
        {
          "output_type": "execute_result",
          "data": {
            "text/plain": [
              "[0, 1, 2, 3, 4, 4, 5, 6, 7, 7, 8, 8, 9, 10, 25]"
            ]
          },
          "metadata": {},
          "execution_count": 62
        }
      ]
    },
    {
      "cell_type": "markdown",
      "source": [
        "# Insertion Sort Python Implementation:\n",
        "//Insertion Sort is n^2"
      ],
      "metadata": {
        "id": "Go_BHQhPcdWt"
      }
    },
    {
      "cell_type": "markdown",
      "source": [
        "Implementation 1: Standard"
      ],
      "metadata": {
        "id": "MO22lYrFj5pd"
      }
    },
    {
      "cell_type": "code",
      "source": [
        "def insertionSort(array):\n",
        "  #start at the beginning of the array\n",
        "  #i is the second entry and j starts with the first entry\n",
        "  for i in range(1, len(array)):\n",
        "    val = array[i]\n",
        "    j = i-1\n",
        "    #if value at j is greater than value at i (entry next to j is out of order), swap\n",
        "    #go back until you hit the first value that's in correct position\n",
        "    while j>= 0 and array[j] > val:\n",
        "      array[j+1] = array[j]\n",
        "      j -= 1\n",
        "    array[j+1] = val\n",
        "  return array"
      ],
      "metadata": {
        "id": "UbtmcvAUkueg"
      },
      "execution_count": 63,
      "outputs": []
    },
    {
      "cell_type": "code",
      "source": [
        "input = [5, 2, 3, 7, 9, 10, 8, 11, 9, 14, 31, 2]\n",
        "insertionSort(input)"
      ],
      "metadata": {
        "colab": {
          "base_uri": "https://localhost:8080/"
        },
        "id": "fw6t4tPfoepf",
        "outputId": "aea53181-4782-4246-e41c-e04ccde51db8"
      },
      "execution_count": 64,
      "outputs": [
        {
          "output_type": "execute_result",
          "data": {
            "text/plain": [
              "[2, 2, 3, 5, 7, 8, 9, 9, 10, 11, 14, 31]"
            ]
          },
          "metadata": {},
          "execution_count": 64
        }
      ]
    },
    {
      "cell_type": "markdown",
      "source": [
        "Implementation 2: Recursion"
      ],
      "metadata": {
        "id": "iSrjab7Xj7uy"
      }
    },
    {
      "cell_type": "markdown",
      "source": [
        "# Selection Sort Python Implementation\n",
        "//Worst case is n^2"
      ],
      "metadata": {
        "id": "DeTzPpibsgkt"
      }
    },
    {
      "cell_type": "code",
      "source": [
        "def selectionSort(array):\n",
        "  #loop through elements of the array, starting at array[0]\n",
        "  for i in range(0, len(array)):\n",
        "    #find the minimum value in the subarray to the right\n",
        "    for j in range(i+1,len(array)):\n",
        "      min = array[j]\n",
        "      if array[j] < min:\n",
        "        min = array[j]\n",
        "      #compare element at i to the min of the subarray to the right and swap if \n",
        "      if array[j] < array[i]:\n",
        "        temp = array[i]\n",
        "        array[i] = array[j]\n",
        "        array[j] = temp\n",
        "  return array"
      ],
      "metadata": {
        "id": "Y82wzEBJspOu"
      },
      "execution_count": 65,
      "outputs": []
    },
    {
      "cell_type": "code",
      "source": [
        "selectionSort(input)"
      ],
      "metadata": {
        "colab": {
          "base_uri": "https://localhost:8080/"
        },
        "id": "zYziXJbLuN1e",
        "outputId": "19a9d7d9-2c5e-436a-f9df-ad140f373897"
      },
      "execution_count": 66,
      "outputs": [
        {
          "output_type": "execute_result",
          "data": {
            "text/plain": [
              "[2, 2, 3, 5, 7, 8, 9, 9, 10, 11, 14, 31]"
            ]
          },
          "metadata": {},
          "execution_count": 66
        }
      ]
    },
    {
      "cell_type": "markdown",
      "source": [
        "# Quicksort Python Implementation - Quicksort uses a separate partition function\n",
        "\n",
        "//Quicksort is worst case n^2 but average case nlogn"
      ],
      "metadata": {
        "id": "FH7EE4RTcokz"
      }
    },
    {
      "cell_type": "code",
      "source": [
        "#swap function to swap two array elements in Python\n",
        "def swap(array, a, b):\n",
        "  temp = array[a]\n",
        "  array[a] = array[b]\n",
        "  array[b] = temp"
      ],
      "metadata": {
        "id": "cswR9JjKIY18"
      },
      "execution_count": 67,
      "outputs": []
    },
    {
      "cell_type": "markdown",
      "source": [
        "Lumato Partition chooses the first element in the array to be the pivot"
      ],
      "metadata": {
        "id": "BaN3uy2YD5HS"
      }
    },
    {
      "cell_type": "code",
      "source": [
        "#left = first index\n",
        "#right = last index\n",
        "\n",
        "def lumatoPartition(array, left, right):\n",
        "  pivot = array[left]\n",
        "  s = left\n",
        "  for i in range(left+1, right+1):\n",
        "    if array[i] < pivot:\n",
        "      s+=1\n",
        "      swap(array, s, i)\n",
        "  swap(array, left, s)\n",
        "  #print(array)\n",
        "  return s"
      ],
      "metadata": {
        "id": "ZQaq-Dmvr3U1"
      },
      "execution_count": 68,
      "outputs": []
    },
    {
      "cell_type": "code",
      "source": [
        "#pivot selected wi\n",
        "b = [9, 12, 6, 11, 13, 8, 2]\n",
        "lumatoPartition(b, 0, 6)"
      ],
      "metadata": {
        "id": "uJIP-Lk3IstO",
        "outputId": "ca997e1e-c0c4-408e-8527-b8b3d3da3c1d",
        "colab": {
          "base_uri": "https://localhost:8080/"
        }
      },
      "execution_count": 69,
      "outputs": [
        {
          "output_type": "execute_result",
          "data": {
            "text/plain": [
              "3"
            ]
          },
          "metadata": {},
          "execution_count": 69
        }
      ]
    },
    {
      "cell_type": "markdown",
      "source": [
        "Quicksort function:"
      ],
      "metadata": {
        "id": "xOomnWC-EDzS"
      }
    },
    {
      "cell_type": "code",
      "source": [
        "def quickSort(array, left, right):\n",
        "  if left < right:\n",
        "    s = lumatoPartition(array, left, right)\n",
        "    quickSort(array, left, s-1)\n",
        "    quickSort(array, s+1, right)\n",
        "  return array"
      ],
      "metadata": {
        "id": "1IP-sCZ-r1j9"
      },
      "execution_count": 70,
      "outputs": []
    },
    {
      "cell_type": "code",
      "source": [
        "#testing the quicksort function\n",
        "quickSort(input,0, 11)"
      ],
      "metadata": {
        "id": "fpk91GdDLhqv",
        "outputId": "27027ee3-a48d-4b98-b1dd-d765c748654e",
        "colab": {
          "base_uri": "https://localhost:8080/"
        }
      },
      "execution_count": 71,
      "outputs": [
        {
          "output_type": "execute_result",
          "data": {
            "text/plain": [
              "[2, 2, 3, 5, 7, 8, 9, 9, 10, 11, 14, 31]"
            ]
          },
          "metadata": {},
          "execution_count": 71
        }
      ]
    },
    {
      "cell_type": "markdown",
      "source": [
        "# Quickselect\n",
        "//not a sorting algorithm but based on concepts from quicksort\n",
        "//input: array and an integer k\n",
        "//output: the value of the kth smallest element in array"
      ],
      "metadata": {
        "id": "E7gfrvBGEH_y"
      }
    },
    {
      "cell_type": "code",
      "source": [
        "def quickSelect(array, left, right, k):\n",
        "  s = lumatoPartition(array, left, right)\n",
        "  #if s = k-1, it means kth smallest is already in position s\n",
        "  if s == k-1:\n",
        "    return array[s]\n",
        "  #look at left side of pivot\n",
        "  elif s > (left + k -1):\n",
        "    quickSelect(array, left, s-1, k)\n",
        "  #look at right side of pivot\n",
        "  else:\n",
        "    quickSelect(array, s+1, right, k-s-1)"
      ],
      "metadata": {
        "id": "TlBKhHMCFc2k"
      },
      "execution_count": 72,
      "outputs": []
    },
    {
      "cell_type": "code",
      "source": [
        "quickSelect(input, 0, 11, 4)"
      ],
      "metadata": {
        "id": "c2heUoX6Jruk",
        "outputId": "63263870-65c7-46f9-f826-678304e0e6f7",
        "colab": {
          "base_uri": "https://localhost:8080/",
          "height": 346
        }
      },
      "execution_count": 73,
      "outputs": [
        {
          "output_type": "error",
          "ename": "RecursionError",
          "evalue": "ignored",
          "traceback": [
            "\u001b[0;31m---------------------------------------------------------------------------\u001b[0m",
            "\u001b[0;31mRecursionError\u001b[0m                            Traceback (most recent call last)",
            "\u001b[0;32m<ipython-input-73-070236a14796>\u001b[0m in \u001b[0;36m<module>\u001b[0;34m\u001b[0m\n\u001b[0;32m----> 1\u001b[0;31m \u001b[0mquickSelect\u001b[0m\u001b[0;34m(\u001b[0m\u001b[0minput\u001b[0m\u001b[0;34m,\u001b[0m \u001b[0;36m0\u001b[0m\u001b[0;34m,\u001b[0m \u001b[0;36m11\u001b[0m\u001b[0;34m,\u001b[0m \u001b[0;36m4\u001b[0m\u001b[0;34m)\u001b[0m\u001b[0;34m\u001b[0m\u001b[0;34m\u001b[0m\u001b[0m\n\u001b[0m",
            "\u001b[0;32m<ipython-input-72-67d871b753b1>\u001b[0m in \u001b[0;36mquickSelect\u001b[0;34m(array, left, right, k)\u001b[0m\n\u001b[1;32m      9\u001b[0m   \u001b[0;31m#look at right side of pivot\u001b[0m\u001b[0;34m\u001b[0m\u001b[0;34m\u001b[0m\u001b[0;34m\u001b[0m\u001b[0m\n\u001b[1;32m     10\u001b[0m   \u001b[0;32melse\u001b[0m\u001b[0;34m:\u001b[0m\u001b[0;34m\u001b[0m\u001b[0;34m\u001b[0m\u001b[0m\n\u001b[0;32m---> 11\u001b[0;31m     \u001b[0mquickSelect\u001b[0m\u001b[0;34m(\u001b[0m\u001b[0marray\u001b[0m\u001b[0;34m,\u001b[0m \u001b[0ms\u001b[0m\u001b[0;34m+\u001b[0m\u001b[0;36m1\u001b[0m\u001b[0;34m,\u001b[0m \u001b[0mright\u001b[0m\u001b[0;34m,\u001b[0m \u001b[0mk\u001b[0m\u001b[0;34m-\u001b[0m\u001b[0ms\u001b[0m\u001b[0;34m-\u001b[0m\u001b[0;36m1\u001b[0m\u001b[0;34m)\u001b[0m\u001b[0;34m\u001b[0m\u001b[0;34m\u001b[0m\u001b[0m\n\u001b[0m",
            "\u001b[0;32m<ipython-input-72-67d871b753b1>\u001b[0m in \u001b[0;36mquickSelect\u001b[0;34m(array, left, right, k)\u001b[0m\n\u001b[1;32m      9\u001b[0m   \u001b[0;31m#look at right side of pivot\u001b[0m\u001b[0;34m\u001b[0m\u001b[0;34m\u001b[0m\u001b[0;34m\u001b[0m\u001b[0m\n\u001b[1;32m     10\u001b[0m   \u001b[0;32melse\u001b[0m\u001b[0;34m:\u001b[0m\u001b[0;34m\u001b[0m\u001b[0;34m\u001b[0m\u001b[0m\n\u001b[0;32m---> 11\u001b[0;31m     \u001b[0mquickSelect\u001b[0m\u001b[0;34m(\u001b[0m\u001b[0marray\u001b[0m\u001b[0;34m,\u001b[0m \u001b[0ms\u001b[0m\u001b[0;34m+\u001b[0m\u001b[0;36m1\u001b[0m\u001b[0;34m,\u001b[0m \u001b[0mright\u001b[0m\u001b[0;34m,\u001b[0m \u001b[0mk\u001b[0m\u001b[0;34m-\u001b[0m\u001b[0ms\u001b[0m\u001b[0;34m-\u001b[0m\u001b[0;36m1\u001b[0m\u001b[0;34m)\u001b[0m\u001b[0;34m\u001b[0m\u001b[0;34m\u001b[0m\u001b[0m\n\u001b[0m",
            "\u001b[0;32m<ipython-input-72-67d871b753b1>\u001b[0m in \u001b[0;36mquickSelect\u001b[0;34m(array, left, right, k)\u001b[0m\n\u001b[1;32m      9\u001b[0m   \u001b[0;31m#look at right side of pivot\u001b[0m\u001b[0;34m\u001b[0m\u001b[0;34m\u001b[0m\u001b[0;34m\u001b[0m\u001b[0m\n\u001b[1;32m     10\u001b[0m   \u001b[0;32melse\u001b[0m\u001b[0;34m:\u001b[0m\u001b[0;34m\u001b[0m\u001b[0;34m\u001b[0m\u001b[0m\n\u001b[0;32m---> 11\u001b[0;31m     \u001b[0mquickSelect\u001b[0m\u001b[0;34m(\u001b[0m\u001b[0marray\u001b[0m\u001b[0;34m,\u001b[0m \u001b[0ms\u001b[0m\u001b[0;34m+\u001b[0m\u001b[0;36m1\u001b[0m\u001b[0;34m,\u001b[0m \u001b[0mright\u001b[0m\u001b[0;34m,\u001b[0m \u001b[0mk\u001b[0m\u001b[0;34m-\u001b[0m\u001b[0ms\u001b[0m\u001b[0;34m-\u001b[0m\u001b[0;36m1\u001b[0m\u001b[0;34m)\u001b[0m\u001b[0;34m\u001b[0m\u001b[0;34m\u001b[0m\u001b[0m\n\u001b[0m",
            "\u001b[0;32m<ipython-input-72-67d871b753b1>\u001b[0m in \u001b[0;36mquickSelect\u001b[0;34m(array, left, right, k)\u001b[0m\n\u001b[1;32m      6\u001b[0m   \u001b[0;31m#look at left side of pivot\u001b[0m\u001b[0;34m\u001b[0m\u001b[0;34m\u001b[0m\u001b[0;34m\u001b[0m\u001b[0m\n\u001b[1;32m      7\u001b[0m   \u001b[0;32melif\u001b[0m \u001b[0ms\u001b[0m \u001b[0;34m>\u001b[0m \u001b[0;34m(\u001b[0m\u001b[0mleft\u001b[0m \u001b[0;34m+\u001b[0m \u001b[0mk\u001b[0m \u001b[0;34m-\u001b[0m\u001b[0;36m1\u001b[0m\u001b[0;34m)\u001b[0m\u001b[0;34m:\u001b[0m\u001b[0;34m\u001b[0m\u001b[0;34m\u001b[0m\u001b[0m\n\u001b[0;32m----> 8\u001b[0;31m     \u001b[0mquickSelect\u001b[0m\u001b[0;34m(\u001b[0m\u001b[0marray\u001b[0m\u001b[0;34m,\u001b[0m \u001b[0mleft\u001b[0m\u001b[0;34m,\u001b[0m \u001b[0ms\u001b[0m\u001b[0;34m-\u001b[0m\u001b[0;36m1\u001b[0m\u001b[0;34m,\u001b[0m \u001b[0mk\u001b[0m\u001b[0;34m)\u001b[0m\u001b[0;34m\u001b[0m\u001b[0;34m\u001b[0m\u001b[0m\n\u001b[0m\u001b[1;32m      9\u001b[0m   \u001b[0;31m#look at right side of pivot\u001b[0m\u001b[0;34m\u001b[0m\u001b[0;34m\u001b[0m\u001b[0;34m\u001b[0m\u001b[0m\n\u001b[1;32m     10\u001b[0m   \u001b[0;32melse\u001b[0m\u001b[0;34m:\u001b[0m\u001b[0;34m\u001b[0m\u001b[0;34m\u001b[0m\u001b[0m\n",
            "... last 1 frames repeated, from the frame below ...\n",
            "\u001b[0;32m<ipython-input-72-67d871b753b1>\u001b[0m in \u001b[0;36mquickSelect\u001b[0;34m(array, left, right, k)\u001b[0m\n\u001b[1;32m      6\u001b[0m   \u001b[0;31m#look at left side of pivot\u001b[0m\u001b[0;34m\u001b[0m\u001b[0;34m\u001b[0m\u001b[0;34m\u001b[0m\u001b[0m\n\u001b[1;32m      7\u001b[0m   \u001b[0;32melif\u001b[0m \u001b[0ms\u001b[0m \u001b[0;34m>\u001b[0m \u001b[0;34m(\u001b[0m\u001b[0mleft\u001b[0m \u001b[0;34m+\u001b[0m \u001b[0mk\u001b[0m \u001b[0;34m-\u001b[0m\u001b[0;36m1\u001b[0m\u001b[0;34m)\u001b[0m\u001b[0;34m:\u001b[0m\u001b[0;34m\u001b[0m\u001b[0;34m\u001b[0m\u001b[0m\n\u001b[0;32m----> 8\u001b[0;31m     \u001b[0mquickSelect\u001b[0m\u001b[0;34m(\u001b[0m\u001b[0marray\u001b[0m\u001b[0;34m,\u001b[0m \u001b[0mleft\u001b[0m\u001b[0;34m,\u001b[0m \u001b[0ms\u001b[0m\u001b[0;34m-\u001b[0m\u001b[0;36m1\u001b[0m\u001b[0;34m,\u001b[0m \u001b[0mk\u001b[0m\u001b[0;34m)\u001b[0m\u001b[0;34m\u001b[0m\u001b[0;34m\u001b[0m\u001b[0m\n\u001b[0m\u001b[1;32m      9\u001b[0m   \u001b[0;31m#look at right side of pivot\u001b[0m\u001b[0;34m\u001b[0m\u001b[0;34m\u001b[0m\u001b[0;34m\u001b[0m\u001b[0m\n\u001b[1;32m     10\u001b[0m   \u001b[0;32melse\u001b[0m\u001b[0;34m:\u001b[0m\u001b[0;34m\u001b[0m\u001b[0;34m\u001b[0m\u001b[0m\n",
            "\u001b[0;31mRecursionError\u001b[0m: maximum recursion depth exceeded in comparison"
          ]
        }
      ]
    },
    {
      "cell_type": "markdown",
      "source": [
        "# Modifying Quicksort"
      ],
      "metadata": {
        "id": "UrYovGoCAySW"
      }
    },
    {
      "cell_type": "code",
      "source": [
        "def newLomuto(array, left, right):\n",
        "  pivot = array[left]\n",
        "  s = left\n",
        "  #p will represent the size of the region equal to the pivot\n",
        "  after_pivot = 0\n",
        "  #iterate through the rest of the list\n",
        "  for i in range(left+1, right+1):\n",
        "    if array[i] < pivot:\n",
        "      s+=1\n",
        "      swap(array, s, i)\n",
        "    elif array[i] == pivot:\n",
        "      after_pivot += 1\n",
        "  swap(array, left, s)\n",
        "\n",
        "  count = 1\n",
        "  for j in range(s+1, right+1):\n",
        "    if array[j] == pivot:\n",
        "      swap(array, j, s+count)\n",
        "      count+=1\n",
        "  return s, s+after_pivot, array"
      ],
      "metadata": {
        "id": "TCgrVSTOA3JT"
      },
      "execution_count": null,
      "outputs": []
    },
    {
      "cell_type": "code",
      "source": [
        "input2 = [5, 2, 5, 6, 5, 3, 9, 6]\n",
        "newLomuto(input2, 0, 7)"
      ],
      "metadata": {
        "id": "8okyN64tEA5h"
      },
      "execution_count": null,
      "outputs": []
    },
    {
      "cell_type": "code",
      "source": [
        "def newQuicksort(array, left, right):\n",
        "  if left < right:\n",
        "    pair = newLomuto(array, left, right)\n",
        "    newQuicksort(array, left, pair[0]-1)\n",
        "    newQuicksort(array, pair[1] + 1, right)\n",
        "  return array"
      ],
      "metadata": {
        "id": "cAUSUYAdDRtG"
      },
      "execution_count": null,
      "outputs": []
    },
    {
      "cell_type": "code",
      "source": [
        "newQuicksort(input2,0, 7)"
      ],
      "metadata": {
        "id": "DkfdWnuRD2KW"
      },
      "execution_count": null,
      "outputs": []
    }
  ]
}