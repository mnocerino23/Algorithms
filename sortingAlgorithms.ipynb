{
  "nbformat": 4,
  "nbformat_minor": 0,
  "metadata": {
    "colab": {
      "provenance": [],
      "authorship_tag": "ABX9TyPz9ClICEUo/k+aGXXj9YD8",
      "include_colab_link": true
    },
    "kernelspec": {
      "name": "python3",
      "display_name": "Python 3"
    },
    "language_info": {
      "name": "python"
    }
  },
  "cells": [
    {
      "cell_type": "markdown",
      "metadata": {
        "id": "view-in-github",
        "colab_type": "text"
      },
      "source": [
        "<a href=\"https://colab.research.google.com/github/mnocerino23/Algorithms/blob/main/sortingAlgorithms.ipynb\" target=\"_parent\"><img src=\"https://colab.research.google.com/assets/colab-badge.svg\" alt=\"Open In Colab\"/></a>"
      ]
    },
    {
      "cell_type": "markdown",
      "source": [
        "# Mergesort Python Implementation:\n",
        "// Mergesort is nlogn worst case\n",
        "\n",
        "\n"
      ],
      "metadata": {
        "id": "Pd3lUXRGcid-"
      }
    },
    {
      "cell_type": "code",
      "source": [
        "#merge will merge two already sorted arrays\n",
        "def merge(left, right):\n",
        "  final = []\n",
        "  i = 0\n",
        "  j = 0\n",
        "  #have two loop variables i and j that run through each array\n",
        "  while ((i < len(left)) and (j < len(right))):\n",
        "    #if the value in beginnig of left array it becomes first element in final sorted \n",
        "    #and we then compare left[1] to right[0] at next iteration\n",
        "    if left[i] <= right[j]:\n",
        "      final.append(left[i])\n",
        "      i+=1\n",
        "    else:\n",
        "      final.append(right[j])\n",
        "      j+=1\n",
        "  #add remaining entries when exit loop\n",
        "  final += left[i:]\n",
        "  final += right[j:]\n",
        "  #return the joined sorted list\n",
        "  return final"
      ],
      "metadata": {
        "id": "lp2zDYepdQ-K"
      },
      "execution_count": 59,
      "outputs": []
    },
    {
      "cell_type": "code",
      "source": [
        "#mergeSort is a recursive divide and conquer algorithm\n",
        "def mergeSort(array):\n",
        "  #basecase -> if array of length 1 return the array\n",
        "  if len(array) == 1:\n",
        "    return array\n",
        "\n",
        "  #middle of the array will be length of array divided by two casted to int (if remainder)\n",
        "  middle = int(len(array)/2)\n",
        "\n",
        "  #left half of the array is indices up to middle\n",
        "  #right half of the array is middle up to length-1 of array\n",
        "  left_half = array[0:middle]\n",
        "  right_half = array[middle:len(array)]\n",
        "\n",
        "  #run mergesort on both halves\n",
        "  left = mergeSort(left_half)\n",
        "  right = mergeSort(right_half)\n",
        "  \n",
        "  #utilize merge to join the sorted halves\n",
        "  return merge(left,right)"
      ],
      "metadata": {
        "id": "ko7cG-3QdF2w"
      },
      "execution_count": 60,
      "outputs": []
    },
    {
      "cell_type": "code",
      "source": [
        "a = [1, 4, 7, 8, 9, 0, 25, 3, 4, 7, 10, 2, 6, 5, 8]\n",
        "mergeSort(a)"
      ],
      "metadata": {
        "colab": {
          "base_uri": "https://localhost:8080/"
        },
        "id": "_Ei0GKEKdGCj",
        "outputId": "b0e69a2c-d940-4d57-ceeb-81cc6bf34ff2"
      },
      "execution_count": 61,
      "outputs": [
        {
          "output_type": "execute_result",
          "data": {
            "text/plain": [
              "[0, 1, 2, 3, 4, 4, 5, 6, 7, 7, 8, 8, 9, 10, 25]"
            ]
          },
          "metadata": {},
          "execution_count": 61
        }
      ]
    },
    {
      "cell_type": "markdown",
      "source": [
        "# Insertion Sort Python Implementation:\n",
        "//Insertion Sort is n^2"
      ],
      "metadata": {
        "id": "Go_BHQhPcdWt"
      }
    },
    {
      "cell_type": "markdown",
      "source": [
        "Implementation 1: Standard"
      ],
      "metadata": {
        "id": "MO22lYrFj5pd"
      }
    },
    {
      "cell_type": "code",
      "source": [
        "def insertionSort(array):\n",
        "  #start at the beginning of the array\n",
        "  #i is the second entry and j starts with the first entry\n",
        "  for i in range(1, len(array)):\n",
        "    val = array[i]\n",
        "    j = i-1\n",
        "    #if value at j is greater than value at i (entry next to j is out of order), swap\n",
        "    #go back until you hit the first value that's in correct position\n",
        "    while j>= 0 and array[j] > val:\n",
        "      array[j+1] = array[j]\n",
        "      j -= 1\n",
        "    array[j+1] = val\n",
        "  return array"
      ],
      "metadata": {
        "id": "UbtmcvAUkueg"
      },
      "execution_count": 70,
      "outputs": []
    },
    {
      "cell_type": "code",
      "source": [
        "input = [5, 2, 3, 7, 9, 10, 8, 11, 9, 14, 31, 2]\n",
        "insertionSort(input)"
      ],
      "metadata": {
        "colab": {
          "base_uri": "https://localhost:8080/"
        },
        "id": "fw6t4tPfoepf",
        "outputId": "b5db397d-3353-4897-aeb0-aaaf9c42dda7"
      },
      "execution_count": 71,
      "outputs": [
        {
          "output_type": "execute_result",
          "data": {
            "text/plain": [
              "[2, 2, 3, 5, 7, 8, 9, 9, 10, 11, 14, 31]"
            ]
          },
          "metadata": {},
          "execution_count": 71
        }
      ]
    },
    {
      "cell_type": "markdown",
      "source": [
        "Implementation 2: Recursion"
      ],
      "metadata": {
        "id": "iSrjab7Xj7uy"
      }
    },
    {
      "cell_type": "markdown",
      "source": [
        "# Selection Sort Python Implementation\n",
        "//Worst case is n^2"
      ],
      "metadata": {
        "id": "DeTzPpibsgkt"
      }
    },
    {
      "cell_type": "code",
      "source": [
        "def selectionSort(array):\n",
        "  #loop through elements of the array, starting at array[0]\n",
        "  for i in range(0, len(array)):\n",
        "    #find the minimum value in the subarray to the right\n",
        "    for j in range(i+1,len(array)):\n",
        "      min = array[j]\n",
        "      if array[j] < min:\n",
        "        min = array[j]\n",
        "      #compare element at i to the min of the subarray to the right and swap if \n",
        "      if array[j] < array[i]:\n",
        "        temp = array[i]\n",
        "        array[i] = array[j]\n",
        "        array[j] = temp\n",
        "  return array"
      ],
      "metadata": {
        "id": "Y82wzEBJspOu"
      },
      "execution_count": 76,
      "outputs": []
    },
    {
      "cell_type": "code",
      "source": [
        "selectionSort(input)"
      ],
      "metadata": {
        "colab": {
          "base_uri": "https://localhost:8080/"
        },
        "id": "zYziXJbLuN1e",
        "outputId": "8227ce71-e40f-450c-e1e4-0340cb3bd786"
      },
      "execution_count": 77,
      "outputs": [
        {
          "output_type": "execute_result",
          "data": {
            "text/plain": [
              "[2, 2, 3, 5, 7, 8, 9, 9, 10, 11, 14, 31]"
            ]
          },
          "metadata": {},
          "execution_count": 77
        }
      ]
    },
    {
      "cell_type": "markdown",
      "source": [
        "# Quicksort Python Implementation - Quicksort uses a separate partition function\n",
        "\n",
        "//Quicksort is worst case n^2 but average case nlogn"
      ],
      "metadata": {
        "id": "FH7EE4RTcokz"
      }
    },
    {
      "cell_type": "code",
      "source": [
        "def partition()"
      ],
      "metadata": {
        "id": "ZQaq-Dmvr3U1"
      },
      "execution_count": null,
      "outputs": []
    },
    {
      "cell_type": "code",
      "source": [
        "def quickSort(array)"
      ],
      "metadata": {
        "id": "1IP-sCZ-r1j9"
      },
      "execution_count": null,
      "outputs": []
    },
    {
      "cell_type": "markdown",
      "source": [
        "# Heapsort Python Implementation"
      ],
      "metadata": {
        "id": "RrY_oN7CvVxr"
      }
    },
    {
      "cell_type": "code",
      "source": [
        "def heapSort(array)"
      ],
      "metadata": {
        "id": "zZz3MMgJvX7p"
      },
      "execution_count": null,
      "outputs": []
    }
  ]
}