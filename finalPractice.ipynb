{
  "nbformat": 4,
  "nbformat_minor": 0,
  "metadata": {
    "colab": {
      "provenance": [],
      "authorship_tag": "ABX9TyNEjHi++915B13Yd9BAu8YD",
      "include_colab_link": true
    },
    "kernelspec": {
      "name": "python3",
      "display_name": "Python 3"
    },
    "language_info": {
      "name": "python"
    }
  },
  "cells": [
    {
      "cell_type": "markdown",
      "metadata": {
        "id": "view-in-github",
        "colab_type": "text"
      },
      "source": [
        "<a href=\"https://colab.research.google.com/github/mnocerino23/Algorithms/blob/main/finalPractice.ipynb\" target=\"_parent\"><img src=\"https://colab.research.google.com/assets/colab-badge.svg\" alt=\"Open In Colab\"/></a>"
      ]
    },
    {
      "cell_type": "markdown",
      "source": [
        "# Write a brute-force algorithm that given an array of integers and an integer s returns True if the array contains two elements such that they add up to s. What is the asymptotic run time of the algorithm?"
      ],
      "metadata": {
        "id": "vhPa5RSbyfpV"
      }
    },
    {
      "cell_type": "code",
      "execution_count": 2,
      "metadata": {
        "id": "dIbXYr-wyclW"
      },
      "outputs": [],
      "source": [
        "#n is length of the array\n",
        "#s is the number we want two numbers to add to\n",
        "\n",
        "def sumToS(array, s):\n",
        "  for i in range(0, len(array)-1):\n",
        "    for j in range(i+1, len(array)):\n",
        "      #print(i, j)\n",
        "      if array[i] + array[j] == s:\n",
        "        #print(i,j)\n",
        "        return True\n",
        "  return False"
      ]
    },
    {
      "cell_type": "code",
      "source": [
        "#test sumToS on sample inputs\n",
        "input1 = [1, 2, 3, 4, 5, 6, 7]\n",
        "input2 = [1, 4, 5, 3, 10]"
      ],
      "metadata": {
        "id": "kf-O__X3z2TA"
      },
      "execution_count": 3,
      "outputs": []
    },
    {
      "cell_type": "code",
      "source": [
        "print(sumToS(input2, 15))\n",
        "print(sumToS(input2, 2))"
      ],
      "metadata": {
        "colab": {
          "base_uri": "https://localhost:8080/"
        },
        "id": "52FrT7EM0BEm",
        "outputId": "236f5fa6-eeca-4846-93bf-b4dac7dd2212"
      },
      "execution_count": 4,
      "outputs": [
        {
          "output_type": "stream",
          "name": "stdout",
          "text": [
            "True\n",
            "False\n"
          ]
        }
      ]
    },
    {
      "cell_type": "code",
      "source": [
        "print(sumToS(input1, 13))\n",
        "print(sumToS(input1, 14))"
      ],
      "metadata": {
        "colab": {
          "base_uri": "https://localhost:8080/"
        },
        "id": "tnMxPB1k1ULD",
        "outputId": "2dd873b2-10b0-4670-d4eb-0047bf1fbb4d"
      },
      "execution_count": 5,
      "outputs": [
        {
          "output_type": "stream",
          "name": "stdout",
          "text": [
            "True\n",
            "False\n"
          ]
        }
      ]
    },
    {
      "cell_type": "markdown",
      "source": [
        "# Design a top-down decrease conquer algorithm and analyze the run time to solve the problem: Suppose we have n>=2 distinct points in the plane on a horizontal line (all points have same y coordinate). We want to find the distance of the closest pair"
      ],
      "metadata": {
        "id": "wSWGek9u1fly"
      }
    },
    {
      "cell_type": "code",
      "source": [
        "#input: the x-coordinates of the points on the line are given in an array\n",
        "#output: returns the distance of the two closest points"
      ],
      "metadata": {
        "id": "yK83KURf1yQe"
      },
      "execution_count": 6,
      "outputs": []
    },
    {
      "cell_type": "code",
      "source": [
        "def getClosestPair(array, low, high):\n",
        "  #we have two elements\n",
        "  if high-low == 1:\n",
        "    return abs(array[low]-array[high])\n",
        "  #we have three elements\n",
        "  if high-low == 2:\n",
        "    if abs(array[high]-array[high-1]) < abs(array[high-1]-array[low]):\n",
        "      return abs(array[high]-array[high-1])\n",
        "    else:\n",
        "      return abs(array[high-1]-array[low])\n",
        "  #recursion on the rest of the array (of size n-1)\n",
        "  distance = getClosestPair(array, low, high-1)\n",
        "\n",
        "  #decrease-conquer\n",
        "  for i in range(high):\n",
        "    if abs(array[i]-array[high]) < distance:\n",
        "      distance = abs(array[i]-array[high])\n",
        "  return distance"
      ],
      "metadata": {
        "id": "pxvvu6zP1fJ2"
      },
      "execution_count": 7,
      "outputs": []
    },
    {
      "cell_type": "code",
      "source": [
        "sample = [2, 10, 15, 5, 20, 24, 50, 75, 76]\n",
        "sample2 = [3, 15, 29, 10, -2, 200, 40]"
      ],
      "metadata": {
        "id": "B-62q4MJ4cWh"
      },
      "execution_count": 8,
      "outputs": []
    },
    {
      "cell_type": "code",
      "source": [
        "getClosestPair(sample, 0, 8)"
      ],
      "metadata": {
        "colab": {
          "base_uri": "https://localhost:8080/"
        },
        "id": "aZlI0Mmg4kaQ",
        "outputId": "835a52f7-20e4-453b-df57-d4f2675cf5d7"
      },
      "execution_count": 9,
      "outputs": [
        {
          "output_type": "execute_result",
          "data": {
            "text/plain": [
              "1"
            ]
          },
          "metadata": {},
          "execution_count": 9
        }
      ]
    },
    {
      "cell_type": "code",
      "source": [
        "getClosestPair(sample2, 0, 6)"
      ],
      "metadata": {
        "colab": {
          "base_uri": "https://localhost:8080/"
        },
        "id": "zoqPsjlr5Jwe",
        "outputId": "8f28585e-22b1-4de4-9092-baa50f787613"
      },
      "execution_count": 10,
      "outputs": [
        {
          "output_type": "execute_result",
          "data": {
            "text/plain": [
              "5"
            ]
          },
          "metadata": {},
          "execution_count": 10
        }
      ]
    },
    {
      "cell_type": "markdown",
      "source": [
        "# Use transform and conquer approach to solve the same problem: sort the array first then compare adjacent elements"
      ],
      "metadata": {
        "id": "dPh-HPxK69E_"
      }
    },
    {
      "cell_type": "code",
      "source": [
        "def getClosestPairTransform(array, low, high):\n",
        "  #sort array first in O(nlogn) using mergesort\n",
        "  array.sort()\n",
        "  #initialize min to the difference between first two elements.\n",
        "  #Because the array is now sorted the closest pair will have to be adjacent\n",
        "  min = abs(array[low]-array[low+1])\n",
        "  #for loop from low + 1 to high-1\n",
        "  for i in range(low+1, high):\n",
        "    dif = abs(array[i]-array[i+1])\n",
        "    if dif < min:\n",
        "      min = dif\n",
        "  return min"
      ],
      "metadata": {
        "id": "H2I2eQQM5UZk"
      },
      "execution_count": 11,
      "outputs": []
    },
    {
      "cell_type": "code",
      "source": [
        "getClosestPairTransform(sample, 0, 8)"
      ],
      "metadata": {
        "colab": {
          "base_uri": "https://localhost:8080/"
        },
        "id": "4sWPpH8J7TPg",
        "outputId": "9950da1f-3057-4b7a-c1d6-f87ec278522a"
      },
      "execution_count": 12,
      "outputs": [
        {
          "output_type": "execute_result",
          "data": {
            "text/plain": [
              "1"
            ]
          },
          "metadata": {},
          "execution_count": 12
        }
      ]
    },
    {
      "cell_type": "code",
      "source": [
        "getClosestPairTransform(sample2, 0, 6)"
      ],
      "metadata": {
        "colab": {
          "base_uri": "https://localhost:8080/"
        },
        "id": "xMCHNBMJ7UtD",
        "outputId": "a3918189-547a-4412-ca9b-c954a06689e4"
      },
      "execution_count": 13,
      "outputs": [
        {
          "output_type": "execute_result",
          "data": {
            "text/plain": [
              "5"
            ]
          },
          "metadata": {},
          "execution_count": 13
        }
      ]
    },
    {
      "cell_type": "markdown",
      "source": [
        "# Design a Divide and Conquer algorithm and analyze the running time for the following problem:"
      ],
      "metadata": {
        "id": "6xLPsd_J8igl"
      }
    },
    {
      "cell_type": "code",
      "source": [
        "import math"
      ],
      "metadata": {
        "id": "J1mdVYhW9Nwg"
      },
      "execution_count": 14,
      "outputs": []
    },
    {
      "cell_type": "code",
      "source": [
        "def maxNegSubarray(array, low, high):\n",
        "  if high == low:\n",
        "    if array[low] < 0:\n",
        "      return 1\n",
        "    else:\n",
        "      return 0\n",
        "  mid = math.floor((low+high)/2)\n",
        "  #split the array in half as the longest subarray must be in one of the halfs or span across both halves\n",
        "  left_length = maxNegSubarray(array, low, mid)\n",
        "  right_length = maxNegSubarray(array, mid+1, mid)\n",
        "\n",
        "  #if middle isn't negative we don't have to look for a potential subarray crossing both halves.\n",
        "  #simply return the max of the two halves\n",
        "  if array[mid] >= 0:\n",
        "    return max(left_length, right_length)\n",
        "  else:\n",
        "    #find the length of the overlapping section in the middle\n",
        "    k = mid\n",
        "    count = 0\n",
        "    #while loops will exist when middle subarray ends\n",
        "    while k >= low and array[k] < 0:\n",
        "      count += 1\n",
        "      k -= 1\n",
        "    #look at right half\n",
        "    k = mid + 1\n",
        "    while k <= high and array[k] < 0:\n",
        "      count +=1\n",
        "      k += 1\n",
        "    return max(left_length, right_length, count)"
      ],
      "metadata": {
        "id": "4Z4CCBmO8sfk"
      },
      "execution_count": 18,
      "outputs": []
    },
    {
      "cell_type": "code",
      "source": [
        "trial = [1, 2, 3, -1, -2, -2, 2]\n",
        "trial2 = [1, -2, -3, -4, -5, 4, -5, 2]"
      ],
      "metadata": {
        "id": "bnh-kGalAjby"
      },
      "execution_count": 19,
      "outputs": []
    },
    {
      "cell_type": "code",
      "source": [
        "print(maxNegSubarray(trial, 0, 6))\n",
        "print(maxNegSubarray(trial2, 0, 7))"
      ],
      "metadata": {
        "id": "JD9WQC-UBJ2v",
        "outputId": "94860d6d-70b0-4b41-dedc-634e5b7605b4",
        "colab": {
          "base_uri": "https://localhost:8080/",
          "height": 363
        }
      },
      "execution_count": 24,
      "outputs": [
        {
          "output_type": "error",
          "ename": "RecursionError",
          "evalue": "ignored",
          "traceback": [
            "\u001b[0;31m---------------------------------------------------------------------------\u001b[0m",
            "\u001b[0;31mRecursionError\u001b[0m                            Traceback (most recent call last)",
            "\u001b[0;32m<ipython-input-24-b35fe1a40518>\u001b[0m in \u001b[0;36m<module>\u001b[0;34m\u001b[0m\n\u001b[0;32m----> 1\u001b[0;31m \u001b[0mprint\u001b[0m\u001b[0;34m(\u001b[0m\u001b[0mmaxNegSubarray\u001b[0m\u001b[0;34m(\u001b[0m\u001b[0mtrial\u001b[0m\u001b[0;34m,\u001b[0m \u001b[0;36m0\u001b[0m\u001b[0;34m,\u001b[0m \u001b[0;36m6\u001b[0m\u001b[0;34m)\u001b[0m\u001b[0;34m)\u001b[0m\u001b[0;34m\u001b[0m\u001b[0;34m\u001b[0m\u001b[0m\n\u001b[0m\u001b[1;32m      2\u001b[0m \u001b[0mprint\u001b[0m\u001b[0;34m(\u001b[0m\u001b[0mmaxNegSubarray\u001b[0m\u001b[0;34m(\u001b[0m\u001b[0mtrial2\u001b[0m\u001b[0;34m,\u001b[0m \u001b[0;36m0\u001b[0m\u001b[0;34m,\u001b[0m \u001b[0;36m7\u001b[0m\u001b[0;34m)\u001b[0m\u001b[0;34m)\u001b[0m\u001b[0;34m\u001b[0m\u001b[0;34m\u001b[0m\u001b[0m\n",
            "\u001b[0;32m<ipython-input-18-a08b662defc1>\u001b[0m in \u001b[0;36mmaxNegSubarray\u001b[0;34m(array, low, high)\u001b[0m\n\u001b[1;32m      7\u001b[0m   \u001b[0mmid\u001b[0m \u001b[0;34m=\u001b[0m \u001b[0mmath\u001b[0m\u001b[0;34m.\u001b[0m\u001b[0mfloor\u001b[0m\u001b[0;34m(\u001b[0m\u001b[0;34m(\u001b[0m\u001b[0mlow\u001b[0m\u001b[0;34m+\u001b[0m\u001b[0mhigh\u001b[0m\u001b[0;34m)\u001b[0m\u001b[0;34m/\u001b[0m\u001b[0;36m2\u001b[0m\u001b[0;34m)\u001b[0m\u001b[0;34m\u001b[0m\u001b[0;34m\u001b[0m\u001b[0m\n\u001b[1;32m      8\u001b[0m   \u001b[0;31m#split the array in half as the longest subarray must be in one of the halfs or span across both halves\u001b[0m\u001b[0;34m\u001b[0m\u001b[0;34m\u001b[0m\u001b[0;34m\u001b[0m\u001b[0m\n\u001b[0;32m----> 9\u001b[0;31m   \u001b[0mleft_length\u001b[0m \u001b[0;34m=\u001b[0m \u001b[0mmaxNegSubarray\u001b[0m\u001b[0;34m(\u001b[0m\u001b[0marray\u001b[0m\u001b[0;34m,\u001b[0m \u001b[0mlow\u001b[0m\u001b[0;34m,\u001b[0m \u001b[0mmid\u001b[0m\u001b[0;34m)\u001b[0m\u001b[0;34m\u001b[0m\u001b[0;34m\u001b[0m\u001b[0m\n\u001b[0m\u001b[1;32m     10\u001b[0m   \u001b[0mright_length\u001b[0m \u001b[0;34m=\u001b[0m \u001b[0mmaxNegSubarray\u001b[0m\u001b[0;34m(\u001b[0m\u001b[0marray\u001b[0m\u001b[0;34m,\u001b[0m \u001b[0mmid\u001b[0m\u001b[0;34m+\u001b[0m\u001b[0;36m1\u001b[0m\u001b[0;34m,\u001b[0m \u001b[0mmid\u001b[0m\u001b[0;34m)\u001b[0m\u001b[0;34m\u001b[0m\u001b[0;34m\u001b[0m\u001b[0m\n\u001b[1;32m     11\u001b[0m \u001b[0;34m\u001b[0m\u001b[0m\n",
            "\u001b[0;32m<ipython-input-18-a08b662defc1>\u001b[0m in \u001b[0;36mmaxNegSubarray\u001b[0;34m(array, low, high)\u001b[0m\n\u001b[1;32m      7\u001b[0m   \u001b[0mmid\u001b[0m \u001b[0;34m=\u001b[0m \u001b[0mmath\u001b[0m\u001b[0;34m.\u001b[0m\u001b[0mfloor\u001b[0m\u001b[0;34m(\u001b[0m\u001b[0;34m(\u001b[0m\u001b[0mlow\u001b[0m\u001b[0;34m+\u001b[0m\u001b[0mhigh\u001b[0m\u001b[0;34m)\u001b[0m\u001b[0;34m/\u001b[0m\u001b[0;36m2\u001b[0m\u001b[0;34m)\u001b[0m\u001b[0;34m\u001b[0m\u001b[0;34m\u001b[0m\u001b[0m\n\u001b[1;32m      8\u001b[0m   \u001b[0;31m#split the array in half as the longest subarray must be in one of the halfs or span across both halves\u001b[0m\u001b[0;34m\u001b[0m\u001b[0;34m\u001b[0m\u001b[0;34m\u001b[0m\u001b[0m\n\u001b[0;32m----> 9\u001b[0;31m   \u001b[0mleft_length\u001b[0m \u001b[0;34m=\u001b[0m \u001b[0mmaxNegSubarray\u001b[0m\u001b[0;34m(\u001b[0m\u001b[0marray\u001b[0m\u001b[0;34m,\u001b[0m \u001b[0mlow\u001b[0m\u001b[0;34m,\u001b[0m \u001b[0mmid\u001b[0m\u001b[0;34m)\u001b[0m\u001b[0;34m\u001b[0m\u001b[0;34m\u001b[0m\u001b[0m\n\u001b[0m\u001b[1;32m     10\u001b[0m   \u001b[0mright_length\u001b[0m \u001b[0;34m=\u001b[0m \u001b[0mmaxNegSubarray\u001b[0m\u001b[0;34m(\u001b[0m\u001b[0marray\u001b[0m\u001b[0;34m,\u001b[0m \u001b[0mmid\u001b[0m\u001b[0;34m+\u001b[0m\u001b[0;36m1\u001b[0m\u001b[0;34m,\u001b[0m \u001b[0mmid\u001b[0m\u001b[0;34m)\u001b[0m\u001b[0;34m\u001b[0m\u001b[0;34m\u001b[0m\u001b[0m\n\u001b[1;32m     11\u001b[0m \u001b[0;34m\u001b[0m\u001b[0m\n",
            "\u001b[0;32m<ipython-input-18-a08b662defc1>\u001b[0m in \u001b[0;36mmaxNegSubarray\u001b[0;34m(array, low, high)\u001b[0m\n\u001b[1;32m      8\u001b[0m   \u001b[0;31m#split the array in half as the longest subarray must be in one of the halfs or span across both halves\u001b[0m\u001b[0;34m\u001b[0m\u001b[0;34m\u001b[0m\u001b[0;34m\u001b[0m\u001b[0m\n\u001b[1;32m      9\u001b[0m   \u001b[0mleft_length\u001b[0m \u001b[0;34m=\u001b[0m \u001b[0mmaxNegSubarray\u001b[0m\u001b[0;34m(\u001b[0m\u001b[0marray\u001b[0m\u001b[0;34m,\u001b[0m \u001b[0mlow\u001b[0m\u001b[0;34m,\u001b[0m \u001b[0mmid\u001b[0m\u001b[0;34m)\u001b[0m\u001b[0;34m\u001b[0m\u001b[0;34m\u001b[0m\u001b[0m\n\u001b[0;32m---> 10\u001b[0;31m   \u001b[0mright_length\u001b[0m \u001b[0;34m=\u001b[0m \u001b[0mmaxNegSubarray\u001b[0m\u001b[0;34m(\u001b[0m\u001b[0marray\u001b[0m\u001b[0;34m,\u001b[0m \u001b[0mmid\u001b[0m\u001b[0;34m+\u001b[0m\u001b[0;36m1\u001b[0m\u001b[0;34m,\u001b[0m \u001b[0mmid\u001b[0m\u001b[0;34m)\u001b[0m\u001b[0;34m\u001b[0m\u001b[0;34m\u001b[0m\u001b[0m\n\u001b[0m\u001b[1;32m     11\u001b[0m \u001b[0;34m\u001b[0m\u001b[0m\n\u001b[1;32m     12\u001b[0m   \u001b[0;31m#if middle isn't negative we don't have to look for a potential subarray crossing both halves.\u001b[0m\u001b[0;34m\u001b[0m\u001b[0;34m\u001b[0m\u001b[0;34m\u001b[0m\u001b[0m\n",
            "\u001b[0;32m<ipython-input-18-a08b662defc1>\u001b[0m in \u001b[0;36mmaxNegSubarray\u001b[0;34m(array, low, high)\u001b[0m\n\u001b[1;32m      7\u001b[0m   \u001b[0mmid\u001b[0m \u001b[0;34m=\u001b[0m \u001b[0mmath\u001b[0m\u001b[0;34m.\u001b[0m\u001b[0mfloor\u001b[0m\u001b[0;34m(\u001b[0m\u001b[0;34m(\u001b[0m\u001b[0mlow\u001b[0m\u001b[0;34m+\u001b[0m\u001b[0mhigh\u001b[0m\u001b[0;34m)\u001b[0m\u001b[0;34m/\u001b[0m\u001b[0;36m2\u001b[0m\u001b[0;34m)\u001b[0m\u001b[0;34m\u001b[0m\u001b[0;34m\u001b[0m\u001b[0m\n\u001b[1;32m      8\u001b[0m   \u001b[0;31m#split the array in half as the longest subarray must be in one of the halfs or span across both halves\u001b[0m\u001b[0;34m\u001b[0m\u001b[0;34m\u001b[0m\u001b[0;34m\u001b[0m\u001b[0m\n\u001b[0;32m----> 9\u001b[0;31m   \u001b[0mleft_length\u001b[0m \u001b[0;34m=\u001b[0m \u001b[0mmaxNegSubarray\u001b[0m\u001b[0;34m(\u001b[0m\u001b[0marray\u001b[0m\u001b[0;34m,\u001b[0m \u001b[0mlow\u001b[0m\u001b[0;34m,\u001b[0m \u001b[0mmid\u001b[0m\u001b[0;34m)\u001b[0m\u001b[0;34m\u001b[0m\u001b[0;34m\u001b[0m\u001b[0m\n\u001b[0m\u001b[1;32m     10\u001b[0m   \u001b[0mright_length\u001b[0m \u001b[0;34m=\u001b[0m \u001b[0mmaxNegSubarray\u001b[0m\u001b[0;34m(\u001b[0m\u001b[0marray\u001b[0m\u001b[0;34m,\u001b[0m \u001b[0mmid\u001b[0m\u001b[0;34m+\u001b[0m\u001b[0;36m1\u001b[0m\u001b[0;34m,\u001b[0m \u001b[0mmid\u001b[0m\u001b[0;34m)\u001b[0m\u001b[0;34m\u001b[0m\u001b[0;34m\u001b[0m\u001b[0m\n\u001b[1;32m     11\u001b[0m \u001b[0;34m\u001b[0m\u001b[0m\n",
            "... last 1 frames repeated, from the frame below ...\n",
            "\u001b[0;32m<ipython-input-18-a08b662defc1>\u001b[0m in \u001b[0;36mmaxNegSubarray\u001b[0;34m(array, low, high)\u001b[0m\n\u001b[1;32m      7\u001b[0m   \u001b[0mmid\u001b[0m \u001b[0;34m=\u001b[0m \u001b[0mmath\u001b[0m\u001b[0;34m.\u001b[0m\u001b[0mfloor\u001b[0m\u001b[0;34m(\u001b[0m\u001b[0;34m(\u001b[0m\u001b[0mlow\u001b[0m\u001b[0;34m+\u001b[0m\u001b[0mhigh\u001b[0m\u001b[0;34m)\u001b[0m\u001b[0;34m/\u001b[0m\u001b[0;36m2\u001b[0m\u001b[0;34m)\u001b[0m\u001b[0;34m\u001b[0m\u001b[0;34m\u001b[0m\u001b[0m\n\u001b[1;32m      8\u001b[0m   \u001b[0;31m#split the array in half as the longest subarray must be in one of the halfs or span across both halves\u001b[0m\u001b[0;34m\u001b[0m\u001b[0;34m\u001b[0m\u001b[0;34m\u001b[0m\u001b[0m\n\u001b[0;32m----> 9\u001b[0;31m   \u001b[0mleft_length\u001b[0m \u001b[0;34m=\u001b[0m \u001b[0mmaxNegSubarray\u001b[0m\u001b[0;34m(\u001b[0m\u001b[0marray\u001b[0m\u001b[0;34m,\u001b[0m \u001b[0mlow\u001b[0m\u001b[0;34m,\u001b[0m \u001b[0mmid\u001b[0m\u001b[0;34m)\u001b[0m\u001b[0;34m\u001b[0m\u001b[0;34m\u001b[0m\u001b[0m\n\u001b[0m\u001b[1;32m     10\u001b[0m   \u001b[0mright_length\u001b[0m \u001b[0;34m=\u001b[0m \u001b[0mmaxNegSubarray\u001b[0m\u001b[0;34m(\u001b[0m\u001b[0marray\u001b[0m\u001b[0;34m,\u001b[0m \u001b[0mmid\u001b[0m\u001b[0;34m+\u001b[0m\u001b[0;36m1\u001b[0m\u001b[0;34m,\u001b[0m \u001b[0mmid\u001b[0m\u001b[0;34m)\u001b[0m\u001b[0;34m\u001b[0m\u001b[0;34m\u001b[0m\u001b[0m\n\u001b[1;32m     11\u001b[0m \u001b[0;34m\u001b[0m\u001b[0m\n",
            "\u001b[0;31mRecursionError\u001b[0m: maximum recursion depth exceeded in comparison"
          ]
        }
      ]
    }
  ]
}