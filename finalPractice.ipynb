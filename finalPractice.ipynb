{
  "nbformat": 4,
  "nbformat_minor": 0,
  "metadata": {
    "colab": {
      "provenance": [],
      "authorship_tag": "ABX9TyMxfyUC0oBLY/AMOgnXeVTK",
      "include_colab_link": true
    },
    "kernelspec": {
      "name": "python3",
      "display_name": "Python 3"
    },
    "language_info": {
      "name": "python"
    }
  },
  "cells": [
    {
      "cell_type": "markdown",
      "metadata": {
        "id": "view-in-github",
        "colab_type": "text"
      },
      "source": [
        "<a href=\"https://colab.research.google.com/github/mnocerino23/Algorithms/blob/main/finalPractice.ipynb\" target=\"_parent\"><img src=\"https://colab.research.google.com/assets/colab-badge.svg\" alt=\"Open In Colab\"/></a>"
      ]
    },
    {
      "cell_type": "markdown",
      "source": [
        "# Write a brute-force algorithm that given an array of integers and an integer s returns True if the array contains two elements such that they add up to s. What is the asymptotic run time of the algorithm?"
      ],
      "metadata": {
        "id": "vhPa5RSbyfpV"
      }
    },
    {
      "cell_type": "code",
      "execution_count": 86,
      "metadata": {
        "id": "dIbXYr-wyclW"
      },
      "outputs": [],
      "source": [
        "#n is length of the array\n",
        "#s is the number we want two numbers to add to\n",
        "\n",
        "def sumToS(array, s):\n",
        "  for i in range(0, len(array)-1):\n",
        "    for j in range(i+1, len(array)):\n",
        "      #print(i, j)\n",
        "      if array[i] + array[j] == s:\n",
        "        #print(i,j)\n",
        "        return True\n",
        "  return False"
      ]
    },
    {
      "cell_type": "code",
      "source": [
        "#test sumToS on sample inputs\n",
        "input1 = [1, 2, 3, 4, 5, 6, 7]\n",
        "input2 = [1, 4, 5, 3, 10]"
      ],
      "metadata": {
        "id": "kf-O__X3z2TA"
      },
      "execution_count": 87,
      "outputs": []
    },
    {
      "cell_type": "code",
      "source": [
        "print(sumToS(input2, 15))\n",
        "print(sumToS(input2, 2))"
      ],
      "metadata": {
        "colab": {
          "base_uri": "https://localhost:8080/"
        },
        "id": "52FrT7EM0BEm",
        "outputId": "e979bf43-ea41-45b7-85f4-d68858df1e71"
      },
      "execution_count": 88,
      "outputs": [
        {
          "output_type": "stream",
          "name": "stdout",
          "text": [
            "True\n",
            "False\n"
          ]
        }
      ]
    },
    {
      "cell_type": "code",
      "source": [
        "print(sumToS(input1, 13))\n",
        "print(sumToS(input1, 14))"
      ],
      "metadata": {
        "colab": {
          "base_uri": "https://localhost:8080/"
        },
        "id": "tnMxPB1k1ULD",
        "outputId": "50e307c9-04ec-412a-9d6a-457b84bd9ace"
      },
      "execution_count": 89,
      "outputs": [
        {
          "output_type": "stream",
          "name": "stdout",
          "text": [
            "True\n",
            "False\n"
          ]
        }
      ]
    },
    {
      "cell_type": "markdown",
      "source": [
        "# Design a top-down decrease conquer algorithm and analyze the run time to solve the problem: Suppose we have n>=2 distinct points in the plane on a horizontal line (all points have same y coordinate). We want to find the distance of the closest pair"
      ],
      "metadata": {
        "id": "wSWGek9u1fly"
      }
    },
    {
      "cell_type": "code",
      "source": [
        "#input: the x-coordinates of the points on the line are given in an array\n",
        "#output: returns the distance of the two closest points"
      ],
      "metadata": {
        "id": "yK83KURf1yQe"
      },
      "execution_count": 90,
      "outputs": []
    },
    {
      "cell_type": "code",
      "source": [
        "def getClosestPair(array, low, high):\n",
        "  #we have two elements\n",
        "  if high-low == 1:\n",
        "    return abs(array[low]-array[high])\n",
        "  #we have three elements\n",
        "  if high-low == 2:\n",
        "    if abs(array[high]-array[high-1]) < abs(array[high-1]-array[low]):\n",
        "      return abs(array[high]-array[high-1])\n",
        "    else:\n",
        "      return abs(array[high-1]-array[low])\n",
        "  #recursion on the rest of the array (of size n-1)\n",
        "  distance = getClosestPair(array, low, high-1)\n",
        "\n",
        "  #decrease-conquer\n",
        "  for i in range(high):\n",
        "    if abs(array[i]-array[high]) < distance:\n",
        "      distance = abs(array[i]-array[high])\n",
        "  return distance"
      ],
      "metadata": {
        "id": "pxvvu6zP1fJ2"
      },
      "execution_count": 91,
      "outputs": []
    },
    {
      "cell_type": "code",
      "source": [
        "sample = [2, 10, 15, 5, 20, 24, 50, 75, 76]\n",
        "sample2 = [3, 15, 29, 10, -2, 200, 40]"
      ],
      "metadata": {
        "id": "B-62q4MJ4cWh"
      },
      "execution_count": 92,
      "outputs": []
    },
    {
      "cell_type": "code",
      "source": [
        "getClosestPair(sample, 0, 8)"
      ],
      "metadata": {
        "colab": {
          "base_uri": "https://localhost:8080/"
        },
        "id": "aZlI0Mmg4kaQ",
        "outputId": "5551d8f2-fe34-44ba-9269-b18313c59aa8"
      },
      "execution_count": 93,
      "outputs": [
        {
          "output_type": "execute_result",
          "data": {
            "text/plain": [
              "1"
            ]
          },
          "metadata": {},
          "execution_count": 93
        }
      ]
    },
    {
      "cell_type": "code",
      "source": [
        "getClosestPair(sample2, 0, 6)"
      ],
      "metadata": {
        "colab": {
          "base_uri": "https://localhost:8080/"
        },
        "id": "zoqPsjlr5Jwe",
        "outputId": "ac9699ad-24ad-4c4f-ed81-4530e4d4e93c"
      },
      "execution_count": 94,
      "outputs": [
        {
          "output_type": "execute_result",
          "data": {
            "text/plain": [
              "5"
            ]
          },
          "metadata": {},
          "execution_count": 94
        }
      ]
    },
    {
      "cell_type": "markdown",
      "source": [
        "# Use transform and conquer approach to solve the same problem: sort the array first then compare adjacent elements"
      ],
      "metadata": {
        "id": "dPh-HPxK69E_"
      }
    },
    {
      "cell_type": "code",
      "source": [
        "def getClosestPairTransform(array, low, high):\n",
        "  #sort array first in O(nlogn) using mergesort\n",
        "  array.sort()\n",
        "  #initialize min to the difference between first two elements.\n",
        "  #Because the array is now sorted the closest pair will have to be adjacent\n",
        "  min = abs(array[low]-array[low+1])\n",
        "  #for loop from low + 1 to high-1\n",
        "  for i in range(low+1, high):\n",
        "    dif = abs(array[i]-array[i+1])\n",
        "    if dif < min:\n",
        "      min = dif\n",
        "  return min"
      ],
      "metadata": {
        "id": "H2I2eQQM5UZk"
      },
      "execution_count": 96,
      "outputs": []
    },
    {
      "cell_type": "code",
      "source": [
        "getClosestPairTransform(sample, 0, 8)"
      ],
      "metadata": {
        "colab": {
          "base_uri": "https://localhost:8080/"
        },
        "id": "4sWPpH8J7TPg",
        "outputId": "07e17523-30b3-4653-9ddb-cc8cb8f867d5"
      },
      "execution_count": 97,
      "outputs": [
        {
          "output_type": "execute_result",
          "data": {
            "text/plain": [
              "1"
            ]
          },
          "metadata": {},
          "execution_count": 97
        }
      ]
    },
    {
      "cell_type": "code",
      "source": [
        "getClosestPairTransform(sample2, 0, 6)"
      ],
      "metadata": {
        "colab": {
          "base_uri": "https://localhost:8080/"
        },
        "id": "xMCHNBMJ7UtD",
        "outputId": "b12a3da8-1855-4847-a1f7-dca156733777"
      },
      "execution_count": 98,
      "outputs": [
        {
          "output_type": "execute_result",
          "data": {
            "text/plain": [
              "5"
            ]
          },
          "metadata": {},
          "execution_count": 98
        }
      ]
    }
  ]
}