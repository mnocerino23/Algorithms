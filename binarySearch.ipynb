{
  "nbformat": 4,
  "nbformat_minor": 0,
  "metadata": {
    "colab": {
      "provenance": [],
      "authorship_tag": "ABX9TyPg/UIPsLIYrE/oqunt19wk",
      "include_colab_link": true
    },
    "kernelspec": {
      "name": "python3",
      "display_name": "Python 3"
    },
    "language_info": {
      "name": "python"
    }
  },
  "cells": [
    {
      "cell_type": "markdown",
      "metadata": {
        "id": "view-in-github",
        "colab_type": "text"
      },
      "source": [
        "<a href=\"https://colab.research.google.com/github/mnocerino23/Algorithms/blob/main/binarySearch.ipynb\" target=\"_parent\"><img src=\"https://colab.research.google.com/assets/colab-badge.svg\" alt=\"Open In Colab\"/></a>"
      ]
    },
    {
      "cell_type": "markdown",
      "source": [
        "# Binary Search Python Implementation\n",
        "//divide and conquer search algorithm"
      ],
      "metadata": {
        "id": "37wuUW3bq7sM"
      }
    },
    {
      "cell_type": "code",
      "source": [
        "a = [1, 4, 6, 8, 11, 12, 12, 12, 13, 14, 15, 16, 18, 20, 25, 26]"
      ],
      "metadata": {
        "id": "9nm_f6JzrESj"
      },
      "execution_count": 19,
      "outputs": []
    },
    {
      "cell_type": "code",
      "source": [
        "#input: a sorted integer array\n",
        "#output: a boolean telling us whether or not the number we are searching for is found\n",
        "\n",
        "#runtime is log(n)"
      ],
      "metadata": {
        "id": "QFd7b9jdrdri"
      },
      "execution_count": 20,
      "outputs": []
    },
    {
      "cell_type": "code",
      "execution_count": 21,
      "metadata": {
        "id": "3qd5ogK5q5kl"
      },
      "outputs": [],
      "source": [
        "def binarySearch(array, low, high, desired):\n",
        "  if low > high:\n",
        "    return False\n",
        "  middle = int((low+high)/2)\n",
        "  \n",
        "  if array[middle] == desired:\n",
        "    return True\n",
        "  elif array[middle] > desired:\n",
        "    return binarySearch(array, low, middle-1, desired)\n",
        "  else:\n",
        "    return binarySearch(array, middle + 1, high, desired)"
      ]
    },
    {
      "cell_type": "code",
      "source": [
        "binarySearch(a, 0, 15, 13)"
      ],
      "metadata": {
        "colab": {
          "base_uri": "https://localhost:8080/"
        },
        "id": "hgZTTqVtsHQJ",
        "outputId": "272632fb-1e9e-4f4c-ab9d-54dc3204e254"
      },
      "execution_count": 22,
      "outputs": [
        {
          "output_type": "execute_result",
          "data": {
            "text/plain": [
              "True"
            ]
          },
          "metadata": {},
          "execution_count": 22
        }
      ]
    },
    {
      "cell_type": "code",
      "source": [
        "binarySearch(a, 0, 15, 23)"
      ],
      "metadata": {
        "id": "H1KBbYw5slep",
        "outputId": "be50340d-7010-494b-ae88-5192ed99f54e",
        "colab": {
          "base_uri": "https://localhost:8080/"
        }
      },
      "execution_count": 23,
      "outputs": [
        {
          "output_type": "execute_result",
          "data": {
            "text/plain": [
              "False"
            ]
          },
          "metadata": {},
          "execution_count": 23
        }
      ]
    },
    {
      "cell_type": "code",
      "source": [
        "binarySearch(a, 0, 15, 25)"
      ],
      "metadata": {
        "id": "Sxep_9NiskMB",
        "outputId": "e5bc6829-a559-4692-b0a8-4d23789f04ab",
        "colab": {
          "base_uri": "https://localhost:8080/"
        }
      },
      "execution_count": 24,
      "outputs": [
        {
          "output_type": "execute_result",
          "data": {
            "text/plain": [
              "True"
            ]
          },
          "metadata": {},
          "execution_count": 24
        }
      ]
    }
  ]
}