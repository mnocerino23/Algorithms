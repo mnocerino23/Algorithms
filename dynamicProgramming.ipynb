{
  "nbformat": 4,
  "nbformat_minor": 0,
  "metadata": {
    "colab": {
      "provenance": [],
      "authorship_tag": "ABX9TyPOCFjYcm336yp65ZAzzVBU",
      "include_colab_link": true
    },
    "kernelspec": {
      "name": "python3",
      "display_name": "Python 3"
    },
    "language_info": {
      "name": "python"
    }
  },
  "cells": [
    {
      "cell_type": "markdown",
      "metadata": {
        "id": "view-in-github",
        "colab_type": "text"
      },
      "source": [
        "<a href=\"https://colab.research.google.com/github/mnocerino23/Algorithms/blob/main/dynamicProgramming.ipynb\" target=\"_parent\"><img src=\"https://colab.research.google.com/assets/colab-badge.svg\" alt=\"Open In Colab\"/></a>"
      ]
    },
    {
      "cell_type": "markdown",
      "source": [
        "# Pick up the max amount of money by picking two non-adjacent coins from a row of coins"
      ],
      "metadata": {
        "id": "bDfspmKQYtCj"
      }
    },
    {
      "cell_type": "code",
      "execution_count": 75,
      "metadata": {
        "id": "SYw10AFjYrBX"
      },
      "outputs": [],
      "source": [
        "#input: array representing values of coins\n",
        "#output: the max sum of two non-adjacent coins\n",
        "\n",
        "def coinRow(c):\n",
        "  #create an array F to store solutions to subproblems\n",
        "  n = len(c)-1\n",
        "  F = [0] * len(c)\n",
        "  #initalize F[0] - solution to problem of size one - to 0\n",
        "  F[0] = 0\n",
        "  F[1] = c[0]\n",
        "  for i in range(2, len(c)):\n",
        "    F[i] = max(F[i-2] + c[i], F[i-1])\n",
        "  print(F)\n",
        "  return F[n]"
      ]
    },
    {
      "cell_type": "code",
      "source": [
        "coin = [1, 3, 5, 9, 2, 4]\n",
        "coinRow(coin)"
      ],
      "metadata": {
        "colab": {
          "base_uri": "https://localhost:8080/"
        },
        "id": "5oTAifJIeHlp",
        "outputId": "dbd273f6-6535-46ea-ad47-07ce8a1ffd9f"
      },
      "execution_count": 76,
      "outputs": [
        {
          "output_type": "stream",
          "name": "stdout",
          "text": [
            "[0, 1, 5, 10, 10, 14]\n"
          ]
        },
        {
          "output_type": "execute_result",
          "data": {
            "text/plain": [
              "14"
            ]
          },
          "metadata": {},
          "execution_count": 76
        }
      ]
    },
    {
      "cell_type": "code",
      "source": [
        "coin2 = [12, 4, 6, 1, 3, 5, 10, 15]\n",
        "coinRow(coin2)"
      ],
      "metadata": {
        "colab": {
          "base_uri": "https://localhost:8080/"
        },
        "id": "29iZledXfLgp",
        "outputId": "5d2da00b-b742-41fa-a0af-c08264bfc0ee"
      },
      "execution_count": 77,
      "outputs": [
        {
          "output_type": "stream",
          "name": "stdout",
          "text": [
            "[0, 12, 12, 13, 15, 18, 25, 33]\n"
          ]
        },
        {
          "output_type": "execute_result",
          "data": {
            "text/plain": [
              "33"
            ]
          },
          "metadata": {},
          "execution_count": 77
        }
      ]
    },
    {
      "cell_type": "markdown",
      "source": [
        "# Write a dynamic programming algorithm to cut a rod of length n into pieces that give the optimal total sales price when the prices of each subrod of length i are provided in an array p"
      ],
      "metadata": {
        "id": "HidO0k5aFcWF"
      }
    },
    {
      "cell_type": "code",
      "source": [
        "def optimalRod(price, n):\n",
        "  F = []\n",
        "  F.append(price[0])\n",
        "  F.append(price[1])\n",
        "  for i in range(2, n+1):\n",
        "    max = 0\n",
        "    j = i\n",
        "    while j >= 1:\n",
        "      #print(j, i-j)\n",
        "      current = price[j] + F[i-j]\n",
        "      #print(j, i-j, \"current: \", current)\n",
        "      if current > max:\n",
        "        max = current\n",
        "      j-=1\n",
        "    #print(\"max: \", max)\n",
        "    F.append(max)\n",
        "  return F[n]"
      ],
      "metadata": {
        "id": "UXlAQ3eEGjeQ"
      },
      "execution_count": 78,
      "outputs": []
    },
    {
      "cell_type": "code",
      "source": [
        "price = [0, 6, 20, 7, 5, 28]\n",
        "optimalRod(price, 5)"
      ],
      "metadata": {
        "id": "ASgW9dXZIRCc",
        "outputId": "2fdc2a61-4218-4faf-b062-fbb731d7deba",
        "colab": {
          "base_uri": "https://localhost:8080/"
        }
      },
      "execution_count": 79,
      "outputs": [
        {
          "output_type": "execute_result",
          "data": {
            "text/plain": [
              "46"
            ]
          },
          "metadata": {},
          "execution_count": 79
        }
      ]
    },
    {
      "cell_type": "markdown",
      "source": [
        "# Revisiting the Change making problem - now with dynamic programming (instead of Greedy technique)"
      ],
      "metadata": {
        "id": "N-IL-e-wSxjy"
      }
    },
    {
      "cell_type": "code",
      "source": [
        "def makeChange3(n, coins):\n",
        "  "
      ],
      "metadata": {
        "id": "lPRHVL1yTxu0",
        "outputId": "62241944-e8fb-4867-c5ea-4154670e5f6f",
        "colab": {
          "base_uri": "https://localhost:8080/",
          "height": 130
        }
      },
      "execution_count": 80,
      "outputs": [
        {
          "output_type": "error",
          "ename": "IndentationError",
          "evalue": "ignored",
          "traceback": [
            "\u001b[0;36m  File \u001b[0;32m\"<ipython-input-80-bff1ffc5250f>\"\u001b[0;36m, line \u001b[0;32m2\u001b[0m\n\u001b[0;31m    \u001b[0m\n\u001b[0m    ^\u001b[0m\n\u001b[0;31mIndentationError\u001b[0m\u001b[0;31m:\u001b[0m expected an indented block\n"
          ]
        }
      ]
    },
    {
      "cell_type": "markdown",
      "source": [
        "# Longest Common Subsequence (LCS) of two DNA strands\n",
        "\n",
        "\n",
        "*   Create an n x m matrix c[n,m] where c[i, j] is the length of the LCS between Xi and Yj\n",
        "*   X is first strand of DNA with n characters, Y is second strand and has m characters\n",
        "\n",
        "\n"
      ],
      "metadata": {
        "id": "aZ4IBBHDGuQh"
      }
    },
    {
      "cell_type": "code",
      "source": [
        "import numpy as np\n",
        "#input: two strings\n",
        "#output: length of longest common subsequence\n",
        "\n",
        "def longestCommonSubsequence(X, Y):\n",
        "  #convert the strings to char arrays - this will be helpful as we populate the matrix\n",
        "  X = list(X)\n",
        "  Y = list(Y)\n",
        "\n",
        "  x_dict = dict(zip(list(range(1, len(X)+1)), X))\n",
        "  y_dict = dict(zip(list(range(1, len(Y)+1)), Y))\n",
        "\n",
        "  columns = len(Y)\n",
        "  rows = len(X)\n",
        "  #print(rows,columns)\n",
        "  #create a matrix with n rows and m columns. Use numpy for easy indexing of the matrix\n",
        "  matrix = np.matrix(np.zeros((rows, columns), dtype = int))\n",
        "  #double for loop to go through the matrix entries\n",
        "\n",
        "  #out for loop runs for 0 to rows-1\n",
        "  for i in range(1, rows+1):\n",
        "    #inner for loop runs for 0 to n-1\n",
        "    for j in range(1, columns+1):\n",
        "      print(i,j)\n",
        "      if x_dict[i] == y_dict[j]:\n",
        "        #if character n,m are equal add one to the upper left entry from i,j and put it in i,j\n",
        "        matrix[i, j] = matrix[i-1,j-1] + 1\n",
        "      else:\n",
        "        #if the two characters are unequal, add the max of the entry directly above and the entry to the left\n",
        "        matrix[i, j] = max(matrix[i, j-1], matrix[i-1, j])\n",
        "  #print(matrix)\n",
        "  return matrix[rows,columns]"
      ],
      "metadata": {
        "id": "pl0SyaejHLQS"
      },
      "execution_count": 157,
      "outputs": []
    },
    {
      "cell_type": "code",
      "source": [
        "longestCommonSubsequence('jeffrey','jeff')"
      ],
      "metadata": {
        "id": "ZklAHw0WVzEi",
        "outputId": "2a7af473-7f3e-42fe-bd2e-710d9728f768",
        "colab": {
          "base_uri": "https://localhost:8080/",
          "height": 380
        }
      },
      "execution_count": 158,
      "outputs": [
        {
          "output_type": "stream",
          "name": "stdout",
          "text": [
            "1 1\n",
            "1 2\n",
            "1 3\n",
            "1 4\n"
          ]
        },
        {
          "output_type": "error",
          "ename": "IndexError",
          "evalue": "ignored",
          "traceback": [
            "\u001b[0;31m---------------------------------------------------------------------------\u001b[0m",
            "\u001b[0;31mIndexError\u001b[0m                                Traceback (most recent call last)",
            "\u001b[0;32m<ipython-input-158-37e8c50d86f4>\u001b[0m in \u001b[0;36m<module>\u001b[0;34m\u001b[0m\n\u001b[0;32m----> 1\u001b[0;31m \u001b[0mlongestCommonSubsequence\u001b[0m\u001b[0;34m(\u001b[0m\u001b[0;34m'jeffrey'\u001b[0m\u001b[0;34m,\u001b[0m\u001b[0;34m'jeff'\u001b[0m\u001b[0;34m)\u001b[0m\u001b[0;34m\u001b[0m\u001b[0;34m\u001b[0m\u001b[0m\n\u001b[0m",
            "\u001b[0;32m<ipython-input-157-29bf0c464b50>\u001b[0m in \u001b[0;36mlongestCommonSubsequence\u001b[0;34m(X, Y)\u001b[0m\n\u001b[1;32m     28\u001b[0m       \u001b[0;32melse\u001b[0m\u001b[0;34m:\u001b[0m\u001b[0;34m\u001b[0m\u001b[0;34m\u001b[0m\u001b[0m\n\u001b[1;32m     29\u001b[0m         \u001b[0;31m#if the two characters are unequal, add the max of the entry directly above and the entry to the left\u001b[0m\u001b[0;34m\u001b[0m\u001b[0;34m\u001b[0m\u001b[0m\n\u001b[0;32m---> 30\u001b[0;31m         \u001b[0mmatrix\u001b[0m\u001b[0;34m[\u001b[0m\u001b[0mi\u001b[0m\u001b[0;34m,\u001b[0m \u001b[0mj\u001b[0m\u001b[0;34m]\u001b[0m \u001b[0;34m=\u001b[0m \u001b[0mmax\u001b[0m\u001b[0;34m(\u001b[0m\u001b[0mmatrix\u001b[0m\u001b[0;34m[\u001b[0m\u001b[0mi\u001b[0m\u001b[0;34m,\u001b[0m \u001b[0mj\u001b[0m\u001b[0;34m-\u001b[0m\u001b[0;36m1\u001b[0m\u001b[0;34m]\u001b[0m\u001b[0;34m,\u001b[0m \u001b[0mmatrix\u001b[0m\u001b[0;34m[\u001b[0m\u001b[0mi\u001b[0m\u001b[0;34m-\u001b[0m\u001b[0;36m1\u001b[0m\u001b[0;34m,\u001b[0m \u001b[0mj\u001b[0m\u001b[0;34m]\u001b[0m\u001b[0;34m)\u001b[0m\u001b[0;34m\u001b[0m\u001b[0;34m\u001b[0m\u001b[0m\n\u001b[0m\u001b[1;32m     31\u001b[0m   \u001b[0;31m#print(matrix)\u001b[0m\u001b[0;34m\u001b[0m\u001b[0;34m\u001b[0m\u001b[0m\n\u001b[1;32m     32\u001b[0m   \u001b[0;32mreturn\u001b[0m \u001b[0mmatrix\u001b[0m\u001b[0;34m[\u001b[0m\u001b[0mrows\u001b[0m\u001b[0;34m,\u001b[0m\u001b[0mcolumns\u001b[0m\u001b[0;34m]\u001b[0m\u001b[0;34m\u001b[0m\u001b[0;34m\u001b[0m\u001b[0m\n",
            "\u001b[0;32m/usr/local/lib/python3.9/dist-packages/numpy/matrixlib/defmatrix.py\u001b[0m in \u001b[0;36m__getitem__\u001b[0;34m(self, index)\u001b[0m\n\u001b[1;32m    191\u001b[0m \u001b[0;34m\u001b[0m\u001b[0m\n\u001b[1;32m    192\u001b[0m         \u001b[0;32mtry\u001b[0m\u001b[0;34m:\u001b[0m\u001b[0;34m\u001b[0m\u001b[0;34m\u001b[0m\u001b[0m\n\u001b[0;32m--> 193\u001b[0;31m             \u001b[0mout\u001b[0m \u001b[0;34m=\u001b[0m \u001b[0mN\u001b[0m\u001b[0;34m.\u001b[0m\u001b[0mndarray\u001b[0m\u001b[0;34m.\u001b[0m\u001b[0m__getitem__\u001b[0m\u001b[0;34m(\u001b[0m\u001b[0mself\u001b[0m\u001b[0;34m,\u001b[0m \u001b[0mindex\u001b[0m\u001b[0;34m)\u001b[0m\u001b[0;34m\u001b[0m\u001b[0;34m\u001b[0m\u001b[0m\n\u001b[0m\u001b[1;32m    194\u001b[0m         \u001b[0;32mfinally\u001b[0m\u001b[0;34m:\u001b[0m\u001b[0;34m\u001b[0m\u001b[0;34m\u001b[0m\u001b[0m\n\u001b[1;32m    195\u001b[0m             \u001b[0mself\u001b[0m\u001b[0;34m.\u001b[0m\u001b[0m_getitem\u001b[0m \u001b[0;34m=\u001b[0m \u001b[0;32mFalse\u001b[0m\u001b[0;34m\u001b[0m\u001b[0;34m\u001b[0m\u001b[0m\n",
            "\u001b[0;31mIndexError\u001b[0m: index 4 is out of bounds for axis 1 with size 4"
          ]
        }
      ]
    },
    {
      "cell_type": "code",
      "source": [
        "longestCommonSubsequence('ACCGGTCGAGTGCGCGGAAGCCGGCCGAA','GTCGTTCGGAATGCCGTTGCTCTGTAAA')"
      ],
      "metadata": {
        "id": "0sOjc2BCIbCL",
        "outputId": "c84966a7-f1cc-47dc-ef7d-d74b0787a983",
        "colab": {
          "base_uri": "https://localhost:8080/"
        }
      },
      "execution_count": 137,
      "outputs": [
        {
          "output_type": "execute_result",
          "data": {
            "text/plain": [
              "19"
            ]
          },
          "metadata": {},
          "execution_count": 137
        }
      ]
    },
    {
      "cell_type": "code",
      "source": [
        "longestCommonSubsequence('michaelnocerino','justinnorth')"
      ],
      "metadata": {
        "id": "8VOOGcWaVRKq",
        "outputId": "4605c5af-c6df-4732-fe39-5566c44db0a2",
        "colab": {
          "base_uri": "https://localhost:8080/"
        }
      },
      "execution_count": 130,
      "outputs": [
        {
          "output_type": "execute_result",
          "data": {
            "text/plain": [
              "6"
            ]
          },
          "metadata": {},
          "execution_count": 130
        }
      ]
    }
  ]
}