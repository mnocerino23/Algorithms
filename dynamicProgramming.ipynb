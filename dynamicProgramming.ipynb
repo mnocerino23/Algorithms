{
  "nbformat": 4,
  "nbformat_minor": 0,
  "metadata": {
    "colab": {
      "provenance": [],
      "authorship_tag": "ABX9TyM+vckGoH01lGr0XbtDE/R0",
      "include_colab_link": true
    },
    "kernelspec": {
      "name": "python3",
      "display_name": "Python 3"
    },
    "language_info": {
      "name": "python"
    }
  },
  "cells": [
    {
      "cell_type": "markdown",
      "metadata": {
        "id": "view-in-github",
        "colab_type": "text"
      },
      "source": [
        "<a href=\"https://colab.research.google.com/github/mnocerino23/Algorithms/blob/main/dynamicProgramming.ipynb\" target=\"_parent\"><img src=\"https://colab.research.google.com/assets/colab-badge.svg\" alt=\"Open In Colab\"/></a>"
      ]
    },
    {
      "cell_type": "markdown",
      "source": [
        "# Pick up the max amount of money by picking two non-adjacent coins from a row of coins"
      ],
      "metadata": {
        "id": "bDfspmKQYtCj"
      }
    },
    {
      "cell_type": "code",
      "execution_count": 33,
      "metadata": {
        "id": "SYw10AFjYrBX"
      },
      "outputs": [],
      "source": [
        "#input: array representing values of coins\n",
        "#output: the max sum of two non-adjacent coins\n",
        "\n",
        "def coinRow(c):\n",
        "  #create an array F to store solutions to subproblems\n",
        "  n = len(c)-1\n",
        "  F = [0] * len(c)\n",
        "  #initalize F[0] - solution to problem of size one - to 0\n",
        "  F[0] = 0\n",
        "  F[1] = c[0]\n",
        "  for i in range(2, len(c)):\n",
        "    F[i] = max(F[i-2] + c[i], F[i-1])\n",
        "  print(F)\n",
        "  return F[n]"
      ]
    },
    {
      "cell_type": "code",
      "source": [
        "coin = [1, 3, 5, 9, 2, 4]\n",
        "coinRow(coin)"
      ],
      "metadata": {
        "colab": {
          "base_uri": "https://localhost:8080/"
        },
        "id": "5oTAifJIeHlp",
        "outputId": "ba77b216-0d0a-4e08-d65e-e3ebabebd216"
      },
      "execution_count": 34,
      "outputs": [
        {
          "output_type": "stream",
          "name": "stdout",
          "text": [
            "[0, 1, 5, 10, 10, 14]\n"
          ]
        },
        {
          "output_type": "execute_result",
          "data": {
            "text/plain": [
              "14"
            ]
          },
          "metadata": {},
          "execution_count": 34
        }
      ]
    },
    {
      "cell_type": "code",
      "source": [
        "coin2 = [12, 4, 6, 1, 3, 5, 10, 15]\n",
        "coinRow(coin2)"
      ],
      "metadata": {
        "colab": {
          "base_uri": "https://localhost:8080/"
        },
        "id": "29iZledXfLgp",
        "outputId": "bc26f803-0f8c-4852-e07e-ca6197c87031"
      },
      "execution_count": 35,
      "outputs": [
        {
          "output_type": "stream",
          "name": "stdout",
          "text": [
            "[0, 12, 12, 13, 15, 18, 25, 33]\n"
          ]
        },
        {
          "output_type": "execute_result",
          "data": {
            "text/plain": [
              "33"
            ]
          },
          "metadata": {},
          "execution_count": 35
        }
      ]
    },
    {
      "cell_type": "code",
      "source": [],
      "metadata": {
        "id": "zMFCU2CFGber"
      },
      "execution_count": 35,
      "outputs": []
    },
    {
      "cell_type": "markdown",
      "source": [
        "# Write a dynamic programming algorithm to cut a rod of length n into pieces that give the optimal total sales price when the prices of each subrod of length i are provided in an array p"
      ],
      "metadata": {
        "id": "HidO0k5aFcWF"
      }
    },
    {
      "cell_type": "code",
      "source": [
        "def optimalRod(price, n):\n",
        "  F = []\n",
        "  F.append(price[0])\n",
        "  F.append(price[1])\n",
        "  for i in range(2, n+1):\n",
        "    max = 0\n",
        "    j = i\n",
        "    while j >= 1:\n",
        "      #print(j, i-j)\n",
        "      current = price[j] + F[i-j]\n",
        "      print(j, i-j, \"current: \", current)\n",
        "      if current > max:\n",
        "        max = current\n",
        "      j-=1\n",
        "    print(\"max: \", max)\n",
        "    F.append(max)\n",
        "  return F[n]"
      ],
      "metadata": {
        "id": "UXlAQ3eEGjeQ"
      },
      "execution_count": 61,
      "outputs": []
    },
    {
      "cell_type": "code",
      "source": [
        "price = [0, 6, 20, 7, 5, 28]\n",
        "optimalRod(price, 5)"
      ],
      "metadata": {
        "id": "ASgW9dXZIRCc",
        "outputId": "03b65fdd-1083-4ea7-ddcc-fac1dd782b1b",
        "colab": {
          "base_uri": "https://localhost:8080/"
        }
      },
      "execution_count": 69,
      "outputs": [
        {
          "output_type": "stream",
          "name": "stdout",
          "text": [
            "2 0 current:  20\n",
            "1 1 current:  12\n",
            "max:  20\n",
            "3 0 current:  7\n",
            "2 1 current:  26\n",
            "1 2 current:  26\n",
            "max:  26\n",
            "4 0 current:  5\n",
            "3 1 current:  13\n",
            "2 2 current:  40\n",
            "1 3 current:  32\n",
            "max:  40\n",
            "5 0 current:  28\n",
            "4 1 current:  11\n",
            "3 2 current:  27\n",
            "2 3 current:  46\n",
            "1 4 current:  46\n",
            "max:  46\n"
          ]
        },
        {
          "output_type": "execute_result",
          "data": {
            "text/plain": [
              "46"
            ]
          },
          "metadata": {},
          "execution_count": 69
        }
      ]
    }
  ]
}