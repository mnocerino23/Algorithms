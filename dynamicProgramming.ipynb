{
  "nbformat": 4,
  "nbformat_minor": 0,
  "metadata": {
    "colab": {
      "provenance": [],
      "authorship_tag": "ABX9TyMPip2ixzxPV/9xraGrSjrt",
      "include_colab_link": true
    },
    "kernelspec": {
      "name": "python3",
      "display_name": "Python 3"
    },
    "language_info": {
      "name": "python"
    }
  },
  "cells": [
    {
      "cell_type": "markdown",
      "metadata": {
        "id": "view-in-github",
        "colab_type": "text"
      },
      "source": [
        "<a href=\"https://colab.research.google.com/github/mnocerino23/Algorithms/blob/main/dynamicProgramming.ipynb\" target=\"_parent\"><img src=\"https://colab.research.google.com/assets/colab-badge.svg\" alt=\"Open In Colab\"/></a>"
      ]
    },
    {
      "cell_type": "markdown",
      "source": [
        "# Pick up the max amount of money by picking two non-adjacent coins from a row of coins"
      ],
      "metadata": {
        "id": "bDfspmKQYtCj"
      }
    },
    {
      "cell_type": "code",
      "execution_count": 19,
      "metadata": {
        "id": "SYw10AFjYrBX"
      },
      "outputs": [],
      "source": [
        "#input: array representing values of coins\n",
        "#output: the max sum of two non-adjacent coins\n",
        "\n",
        "def coinRow(c):\n",
        "  #create an array F to store solutions to subproblems\n",
        "  n = len(c)-1\n",
        "  F = [0] * len(c)\n",
        "  #initalize F[0] - solution to problem of size one - to 0\n",
        "  F[0] = 0\n",
        "  F[1] = c[0]\n",
        "  for i in range(2, len(c)):\n",
        "    F[i] = max(F[i-2] + c[i], F[i-1])\n",
        "  print(F)\n",
        "  return F[n]"
      ]
    },
    {
      "cell_type": "code",
      "source": [
        "coin = [1, 3, 5, 9, 2, 4]\n",
        "coinRow(coin)"
      ],
      "metadata": {
        "colab": {
          "base_uri": "https://localhost:8080/"
        },
        "id": "5oTAifJIeHlp",
        "outputId": "f66a3752-0a1f-4911-d034-822243293880"
      },
      "execution_count": 22,
      "outputs": [
        {
          "output_type": "stream",
          "name": "stdout",
          "text": [
            "[0, 1, 5, 10, 10, 14]\n"
          ]
        },
        {
          "output_type": "execute_result",
          "data": {
            "text/plain": [
              "14"
            ]
          },
          "metadata": {},
          "execution_count": 22
        }
      ]
    },
    {
      "cell_type": "code",
      "source": [
        "coin2 = [12, 4, 6, 1, 3, 5, 10, 15]\n",
        "coinRow(coin2)"
      ],
      "metadata": {
        "colab": {
          "base_uri": "https://localhost:8080/"
        },
        "id": "29iZledXfLgp",
        "outputId": "a86e37f2-2cff-4969-d757-b3138ce711f6"
      },
      "execution_count": 21,
      "outputs": [
        {
          "output_type": "stream",
          "name": "stdout",
          "text": [
            "[0, 12, 12, 13, 15, 18, 25, 33]\n"
          ]
        },
        {
          "output_type": "execute_result",
          "data": {
            "text/plain": [
              "33"
            ]
          },
          "metadata": {},
          "execution_count": 21
        }
      ]
    }
  ]
}