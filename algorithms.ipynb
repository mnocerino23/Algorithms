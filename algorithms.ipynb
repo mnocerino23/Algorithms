{
  "nbformat": 4,
  "nbformat_minor": 0,
  "metadata": {
    "colab": {
      "provenance": []
    },
    "kernelspec": {
      "name": "python3",
      "display_name": "Python 3"
    },
    "language_info": {
      "name": "python"
    }
  },
  "cells": [
    {
      "cell_type": "markdown",
      "source": [
        "Function that takes in an array and returns true if any of its elements differ by one and false otherwise"
      ],
      "metadata": {
        "id": "s7SUKeZl4B3m"
      }
    },
    {
      "cell_type": "code",
      "source": [
        "def differenceOne(array):\n",
        "  for i in range(0, len(array)-1):\n",
        "    for j in range(i+1,len(array)):\n",
        "      print(i,j)\n",
        "      print(abs((array[i]-array[j])))\n",
        "      if abs((array[i]-array[j])) == 1:\n",
        "        return True\n",
        "  return False"
      ],
      "metadata": {
        "id": "yWouwZOC4HtO"
      },
      "execution_count": 29,
      "outputs": []
    },
    {
      "cell_type": "code",
      "source": [
        "input1 = [1, 3, 5, 7]\n",
        "input2 = [3, 5, 7, 10, 8]"
      ],
      "metadata": {
        "id": "l0nAJQce4tu3"
      },
      "execution_count": 32,
      "outputs": []
    },
    {
      "cell_type": "code",
      "source": [
        "differenceOne(input1)"
      ],
      "metadata": {
        "colab": {
          "base_uri": "https://localhost:8080/"
        },
        "id": "1U0eIB646jXP",
        "outputId": "84f6d430-4e5a-47e0-cb9a-00892c224589"
      },
      "execution_count": 35,
      "outputs": [
        {
          "output_type": "stream",
          "name": "stdout",
          "text": [
            "0 1\n",
            "2\n",
            "0 2\n",
            "4\n",
            "0 3\n",
            "6\n",
            "1 2\n",
            "2\n",
            "1 3\n",
            "4\n",
            "2 3\n",
            "2\n"
          ]
        },
        {
          "output_type": "execute_result",
          "data": {
            "text/plain": [
              "False"
            ]
          },
          "metadata": {},
          "execution_count": 35
        }
      ]
    },
    {
      "cell_type": "code",
      "source": [
        "differenceOne(input2)"
      ],
      "metadata": {
        "colab": {
          "base_uri": "https://localhost:8080/"
        },
        "id": "hcseafux4-Wu",
        "outputId": "526bbed7-9b05-4850-b863-c781d2da90ad"
      },
      "execution_count": 36,
      "outputs": [
        {
          "output_type": "stream",
          "name": "stdout",
          "text": [
            "0 1\n",
            "2\n",
            "0 2\n",
            "4\n",
            "0 3\n",
            "7\n",
            "0 4\n",
            "5\n",
            "1 2\n",
            "2\n",
            "1 3\n",
            "5\n",
            "1 4\n",
            "3\n",
            "2 3\n",
            "3\n",
            "2 4\n",
            "1\n"
          ]
        },
        {
          "output_type": "execute_result",
          "data": {
            "text/plain": [
              "True"
            ]
          },
          "metadata": {},
          "execution_count": 36
        }
      ]
    },
    {
      "cell_type": "markdown",
      "source": [
        "Recursive function that given an array of size = n returns the sum of the squares of all its elements"
      ],
      "metadata": {
        "id": "Byb3qrrH3iu3"
      }
    },
    {
      "cell_type": "code",
      "execution_count": 8,
      "metadata": {
        "id": "s1FAxiZG1zgy"
      },
      "outputs": [],
      "source": [
        "def SumOfSquares(array, size):\n",
        "  if size == 1:\n",
        "    return (array[0])**2\n",
        "  else:\n",
        "    return (array[size-1])**2 + SumOfSquares(array, size-1)"
      ]
    },
    {
      "cell_type": "code",
      "source": [
        "l = [5, 6, 2, 3]\n",
        "print(SumOfSquares(l, 4))"
      ],
      "metadata": {
        "colab": {
          "base_uri": "https://localhost:8080/"
        },
        "id": "64nufmMd152l",
        "outputId": "5247c1c8-430d-45e8-8083-ee9eddf2ca92"
      },
      "execution_count": 9,
      "outputs": [
        {
          "output_type": "stream",
          "name": "stdout",
          "text": [
            "74\n"
          ]
        }
      ]
    }
  ]
}