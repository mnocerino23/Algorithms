{
  "nbformat": 4,
  "nbformat_minor": 0,
  "metadata": {
    "colab": {
      "provenance": [],
      "authorship_tag": "ABX9TyMvXqqXBGMzUZxHtRATxgOn",
      "include_colab_link": true
    },
    "kernelspec": {
      "name": "python3",
      "display_name": "Python 3"
    },
    "language_info": {
      "name": "python"
    }
  },
  "cells": [
    {
      "cell_type": "markdown",
      "metadata": {
        "id": "view-in-github",
        "colab_type": "text"
      },
      "source": [
        "<a href=\"https://colab.research.google.com/github/mnocerino23/Algorithms/blob/main/algorithms.ipynb\" target=\"_parent\"><img src=\"https://colab.research.google.com/assets/colab-badge.svg\" alt=\"Open In Colab\"/></a>"
      ]
    },
    {
      "cell_type": "markdown",
      "source": [
        "Function that takes in an array and returns true if any of its elements differ by one and false otherwise"
      ],
      "metadata": {
        "id": "s7SUKeZl4B3m"
      }
    },
    {
      "cell_type": "code",
      "source": [
        "def differenceOne(array):\n",
        "  for i in range(0, len(array)-1):\n",
        "    for j in range(i+1,len(array)):\n",
        "      print(i,j)\n",
        "      print(abs((array[i]-array[j])))\n",
        "      if abs((array[i]-array[j])) == 1:\n",
        "        return True\n",
        "  return False"
      ],
      "metadata": {
        "id": "yWouwZOC4HtO"
      },
      "execution_count": 14,
      "outputs": []
    },
    {
      "cell_type": "code",
      "source": [
        "input1 = [1, 3, 5, 7]\n",
        "input2 = [3, 5, 7, 10, 8]"
      ],
      "metadata": {
        "id": "l0nAJQce4tu3"
      },
      "execution_count": 15,
      "outputs": []
    },
    {
      "cell_type": "code",
      "source": [
        "differenceOne(input1)"
      ],
      "metadata": {
        "id": "1U0eIB646jXP",
        "outputId": "0d5ead06-61b9-4800-90bc-f1dec348d9c5",
        "colab": {
          "base_uri": "https://localhost:8080/"
        }
      },
      "execution_count": 16,
      "outputs": [
        {
          "output_type": "stream",
          "name": "stdout",
          "text": [
            "0 1\n",
            "2\n",
            "0 2\n",
            "4\n",
            "0 3\n",
            "6\n",
            "1 2\n",
            "2\n",
            "1 3\n",
            "4\n",
            "2 3\n",
            "2\n"
          ]
        },
        {
          "output_type": "execute_result",
          "data": {
            "text/plain": [
              "False"
            ]
          },
          "metadata": {},
          "execution_count": 16
        }
      ]
    },
    {
      "cell_type": "code",
      "source": [
        "differenceOne(input2)"
      ],
      "metadata": {
        "colab": {
          "base_uri": "https://localhost:8080/"
        },
        "id": "hcseafux4-Wu",
        "outputId": "7ddf6d8a-d0d0-4fb1-bc27-ca0642c93bf3"
      },
      "execution_count": 17,
      "outputs": [
        {
          "output_type": "stream",
          "name": "stdout",
          "text": [
            "0 1\n",
            "2\n",
            "0 2\n",
            "4\n",
            "0 3\n",
            "7\n",
            "0 4\n",
            "5\n",
            "1 2\n",
            "2\n",
            "1 3\n",
            "5\n",
            "1 4\n",
            "3\n",
            "2 3\n",
            "3\n",
            "2 4\n",
            "1\n"
          ]
        },
        {
          "output_type": "execute_result",
          "data": {
            "text/plain": [
              "True"
            ]
          },
          "metadata": {},
          "execution_count": 17
        }
      ]
    },
    {
      "cell_type": "markdown",
      "source": [
        "Recursive function that given an array of size = n returns the product of the squares of all its elements"
      ],
      "metadata": {
        "id": "Byb3qrrH3iu3"
      }
    },
    {
      "cell_type": "code",
      "execution_count": 26,
      "metadata": {
        "id": "s1FAxiZG1zgy"
      },
      "outputs": [],
      "source": [
        "def ProdOfSquares(array, size):\n",
        "  if size == 1:\n",
        "    return (array[0])**2\n",
        "  else:\n",
        "    return ((array[size-1]**2) * ProdOfSquares(array, size-1))"
      ]
    },
    {
      "cell_type": "code",
      "source": [
        "l = [5, 6, 2, 3]\n",
        "print(ProdOfSquares(l, 4))"
      ],
      "metadata": {
        "colab": {
          "base_uri": "https://localhost:8080/"
        },
        "id": "64nufmMd152l",
        "outputId": "32593bd5-6a50-4b9d-af32-fe813a178be7"
      },
      "execution_count": 27,
      "outputs": [
        {
          "output_type": "stream",
          "name": "stdout",
          "text": [
            "32400\n"
          ]
        }
      ]
    }
  ]
}