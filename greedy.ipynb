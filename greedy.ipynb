{
  "nbformat": 4,
  "nbformat_minor": 0,
  "metadata": {
    "colab": {
      "provenance": [],
      "authorship_tag": "ABX9TyNOWrES/96ohlTGHa4+mUu+",
      "include_colab_link": true
    },
    "kernelspec": {
      "name": "python3",
      "display_name": "Python 3"
    },
    "language_info": {
      "name": "python"
    }
  },
  "cells": [
    {
      "cell_type": "markdown",
      "metadata": {
        "id": "view-in-github",
        "colab_type": "text"
      },
      "source": [
        "<a href=\"https://colab.research.google.com/github/mnocerino23/Algorithms/blob/main/greedy.ipynb\" target=\"_parent\"><img src=\"https://colab.research.google.com/assets/colab-badge.svg\" alt=\"Open In Colab\"/></a>"
      ]
    },
    {
      "cell_type": "markdown",
      "source": [
        "# Sample Implementation of a few Greedy Algorithms"
      ],
      "metadata": {
        "id": "Gk1c1Q59fmCX"
      }
    },
    {
      "cell_type": "markdown",
      "source": [
        "Greedy algorithms involve making the locally optimal (best) decision at each step repeatedly. Sometimes greedy will be optimal but often not as well. Greedy techniques are used to solve optimization problems (maximize or minimize). With a greedy approach, you build up the solution piece by piece, always choosing the next piece with the most obvious and immediate beneft."
      ],
      "metadata": {
        "id": "HIN5eJ9kfqEm"
      }
    },
    {
      "cell_type": "markdown",
      "source": [
        "# Change-making problem"
      ],
      "metadata": {
        "id": "QnQ4iiJ8hQFL"
      }
    },
    {
      "cell_type": "code",
      "source": [
        "#input: given an interger n and a set of coin denominations (c0, c1, c2, c3...)\n",
        "#output: a set of coins of these values that add up to n, using the least number of coins"
      ],
      "metadata": {
        "id": "d64IUWIRhQZM"
      },
      "execution_count": 1,
      "outputs": []
    },
    {
      "cell_type": "code",
      "source": [
        "#make change implementation for us coins using a dictionary\n",
        "us_coins = [25, 10, 5, 1]\n",
        "#coins is a list of coin values given in descending order\n",
        "\n",
        "def makeChange(n, coins):\n",
        "  #create a dictionary\n",
        "  coinCount = {}\n",
        "  for i in range (0, len(coins)):\n",
        "    while n >= coins[i]:\n",
        "      if coins[i] in coinCount.keys():\n",
        "        coinCount[coins[i]] += 1\n",
        "      else:\n",
        "        coinCount[coins[i]] = 1\n",
        "      n = n - coins[i]\n",
        "  print(coinCount)"
      ],
      "metadata": {
        "id": "kfI6w9GVhp_8"
      },
      "execution_count": 2,
      "outputs": []
    },
    {
      "cell_type": "code",
      "source": [
        "makeChange(69, us_coins)"
      ],
      "metadata": {
        "id": "w3OT8nVFkZjl",
        "outputId": "bdf820a5-5901-4cc1-a873-e4bc99943a69",
        "colab": {
          "base_uri": "https://localhost:8080/"
        }
      },
      "execution_count": 3,
      "outputs": [
        {
          "output_type": "stream",
          "name": "stdout",
          "text": [
            "{25: 2, 10: 1, 5: 1, 1: 4}\n"
          ]
        }
      ]
    },
    {
      "cell_type": "code",
      "source": [
        "makeChange(75, us_coins)"
      ],
      "metadata": {
        "id": "_RtBXRtGkpg0",
        "outputId": "d62bdce7-51ae-40d6-95f0-f5d0518c9971",
        "colab": {
          "base_uri": "https://localhost:8080/"
        }
      },
      "execution_count": 4,
      "outputs": [
        {
          "output_type": "stream",
          "name": "stdout",
          "text": [
            "{25: 3}\n"
          ]
        }
      ]
    },
    {
      "cell_type": "code",
      "source": [
        "makeChange(16, us_coins)"
      ],
      "metadata": {
        "id": "AwXFeKRxkufF",
        "outputId": "c365d414-b0b0-415a-cea2-c89acb693d83",
        "colab": {
          "base_uri": "https://localhost:8080/"
        }
      },
      "execution_count": 5,
      "outputs": [
        {
          "output_type": "stream",
          "name": "stdout",
          "text": [
            "{10: 1, 5: 1, 1: 1}\n"
          ]
        }
      ]
    },
    {
      "cell_type": "code",
      "source": [
        "#make change implementation for us coins using an array. The output will be a list of the coin values\n",
        "#coins is a list of coin values given in descending order\n",
        "\n",
        "def makeChange2(n, coins):\n",
        "  #create a dictionary\n",
        "  coinCount = []\n",
        "  for i in range (0, len(coins)):\n",
        "    while n >= coins[i]:\n",
        "      coinCount.append(coins[i])\n",
        "      n = n - coins[i]\n",
        "  print(coinCount)"
      ],
      "metadata": {
        "id": "55RMn3-XlE1m"
      },
      "execution_count": 6,
      "outputs": []
    },
    {
      "cell_type": "code",
      "source": [
        "makeChange2(69, us_coins)"
      ],
      "metadata": {
        "id": "QFgQ-x4XlgdG",
        "outputId": "bddb848c-bcf8-4f3d-bb52-d1622d039113",
        "colab": {
          "base_uri": "https://localhost:8080/"
        }
      },
      "execution_count": 7,
      "outputs": [
        {
          "output_type": "stream",
          "name": "stdout",
          "text": [
            "[25, 25, 10, 5, 1, 1, 1, 1]\n"
          ]
        }
      ]
    },
    {
      "cell_type": "code",
      "source": [
        "makeChange2(75, us_coins)"
      ],
      "metadata": {
        "id": "eBoegiPilkID",
        "outputId": "a9f1e482-e7bc-4b9a-cf4d-b548263070a9",
        "colab": {
          "base_uri": "https://localhost:8080/"
        }
      },
      "execution_count": 8,
      "outputs": [
        {
          "output_type": "stream",
          "name": "stdout",
          "text": [
            "[25, 25, 25]\n"
          ]
        }
      ]
    },
    {
      "cell_type": "code",
      "source": [
        "makeChange2(16, us_coins)"
      ],
      "metadata": {
        "id": "EHFO1MwFllMN",
        "outputId": "06b300f6-a12f-4baa-960c-4f1cf4c8a5f3",
        "colab": {
          "base_uri": "https://localhost:8080/"
        }
      },
      "execution_count": 9,
      "outputs": [
        {
          "output_type": "stream",
          "name": "stdout",
          "text": [
            "[10, 5, 1]\n"
          ]
        }
      ]
    }
  ]
}