{
  "nbformat": 4,
  "nbformat_minor": 0,
  "metadata": {
    "colab": {
      "provenance": [],
      "authorship_tag": "ABX9TyMT4BvIM1ynRYyp7BzZjMdE",
      "include_colab_link": true
    },
    "kernelspec": {
      "name": "python3",
      "display_name": "Python 3"
    },
    "language_info": {
      "name": "python"
    }
  },
  "cells": [
    {
      "cell_type": "markdown",
      "metadata": {
        "id": "view-in-github",
        "colab_type": "text"
      },
      "source": [
        "<a href=\"https://colab.research.google.com/github/mnocerino23/Algorithms/blob/main/greedy.ipynb\" target=\"_parent\"><img src=\"https://colab.research.google.com/assets/colab-badge.svg\" alt=\"Open In Colab\"/></a>"
      ]
    },
    {
      "cell_type": "markdown",
      "source": [
        "# Sample Implementation of a few Greedy Algorithms"
      ],
      "metadata": {
        "id": "Gk1c1Q59fmCX"
      }
    },
    {
      "cell_type": "markdown",
      "source": [
        "# Change-making problem\n",
        "Greedy algorithms involve making the locally optimal (best) decision at each step repeatedly. Sometimes greedy will be optimal but often not as well. Greedy techniques are used to solve optimization problems (maximize or minimize). With a greedy approach, you build up the solution piece by piece, always choosing the next piece with the most obvious and immediate beneft"
      ],
      "metadata": {
        "id": "HIN5eJ9kfqEm"
      }
    },
    {
      "cell_type": "code",
      "execution_count": null,
      "metadata": {
        "id": "poIm8MyncKoQ"
      },
      "outputs": [],
      "source": []
    }
  ]
}